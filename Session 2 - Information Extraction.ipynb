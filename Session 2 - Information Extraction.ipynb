{
 "cells": [
  {
   "cell_type": "code",
   "execution_count": 1,
   "metadata": {
    "slideshow": {
     "slide_type": "skip"
    }
   },
   "outputs": [],
   "source": [
    "%matplotlib inline\n",
    "\n",
    "import os \n",
    "import warnings\n",
    "import matplotlib as mpl\n",
    "\n",
    "# Set default figure size \n",
    "mpl.rcParams['figure.figsize'] = [9.0, 6.0]\n",
    "\n",
    "# Ignore warnings \n",
    "warnings.simplefilter(\"ignore\")\n",
    "\n",
    "# Location of the data directory on disk \n",
    "DATA = \"data\""
   ]
  },
  {
   "cell_type": "markdown",
   "metadata": {
    "slideshow": {
     "slide_type": "slide"
    }
   },
   "source": [
    "# Session 2: Information Extraction \n",
    "**June 21, 2018** "
   ]
  },
  {
   "cell_type": "markdown",
   "metadata": {
    "slideshow": {
     "slide_type": "notes"
    }
   },
   "source": [
    "In this session, we will take a deeper dive into the language processing toolkit to find ways to automatically extract and parse information from text. \n",
    "\n",
    "In the first session, we looked at ways of breaking down text into its constituent parts: documents into paragraphs, paragraphs into sentences, and sentences into token, tag tuples. We discovered that this data wrangling is the basis for discovering meaning in text through statistical techniques. For example, we explored the use of N-Gram analysis to find significant collocations. \n",
    "\n",
    "Text data contains a lot more information than simple collocations of words, such as parts-of-speech (e.g. what's a noun, a verb, and adjective, etc.). We can use linguistic information to start to build more complex data structures that will enable more effective parsing of text. We'll explore how to build syntax parses using NLTK, Stanford and spaCy to find dependencies between words that imply significant relationships. We will then use this information to summarize text, extract key phrases, and find named entities of interest. We can then link these entities together in a graph data structure, then use graph analysis techniques to find significant entities and their relationships. "
   ]
  },
  {
   "cell_type": "markdown",
   "metadata": {
    "slideshow": {
     "slide_type": "slide"
    }
   },
   "source": [
    "## Syntactic Parsing \n",
    "\n",
    "Assigning a structure to a sentence that reveals relationships governed by syntax rules, e.g. by grammars. Consider the sentence:\n",
    "\n",
    "> The factory employs 12.8 percent of Bradford County.  \n",
    "\n",
    "Syntax parses produce a tree that will enable us to understand that the subject of this sentence is \"the factory\", the predicate is \"employs\", and that the target is \"12.8 percent\", which in turn is modified by \"Bradford County\". "
   ]
  },
  {
   "cell_type": "markdown",
   "metadata": {
    "slideshow": {
     "slide_type": "subslide"
    }
   },
   "source": [
    "### Syntax Parsing Challenges\n",
    "\n",
    "Before we turn to how we conduct syntax parsing, we should note that parsing is a challenge, primarily because of **structural ambiguity**. Parsing, therefore is a stochastic machine learning technique that requires a lot of computational power.\n",
    "\n",
    "While it is possible to develop a parser of your own in pure Python with NLTK (we'll explore some of this later). The libraries that exist to do this are generally black boxes. We'll look at two toolkits:\n",
    "\n",
    "1. Stanford CoreNLP (with NLTK wrapper)\n",
    "2. spaCy (dependency parsing only) "
   ]
  },
  {
   "cell_type": "markdown",
   "metadata": {
    "slideshow": {
     "slide_type": "subslide"
    }
   },
   "source": [
    "![Constituency Parse](figures/s2_constituency_parsing.jpg)\n",
    "\n",
    "A parse tree that distinguishes between terminal (phrases) and non-terminal (parts-of-speech) elements. Usually _deep_ and contain large amounts of _extra information_. "
   ]
  },
  {
   "cell_type": "markdown",
   "metadata": {
    "slideshow": {
     "slide_type": "subslide"
    }
   },
   "source": [
    "![Dependency Parse](figures/s2_dependency_parsing.jpg)\n",
    "\n",
    "Does not acknowledge difference between terminal (phrases) and non-terminal (parts-of-speech) elements. However, they are _simpler_ than constituency-based parse trees. "
   ]
  },
  {
   "cell_type": "markdown",
   "metadata": {
    "slideshow": {
     "slide_type": "slide"
    }
   },
   "source": [
    "### Stanford CoreNLP \n",
    "\n",
    "The Stanford CoreNLP package is written in Java 1.8 and contains one of the most advanced parsers for English, Arabic, Chinese, French, German, and Spanish. From Python, we can use CoreNLP by downloading the `.jar` files from [Stanford NLP download page](https://stanfordnlp.github.io/CoreNLP/#download) and wrapping the API servers that the JAR exposes with requests from NLTK.\n",
    "\n",
    "> **NOTE**: If you don't have Java 1.8 installed or cannot download the CoreNLP packages, I would recommend skipping ahead to the Dependency Parsing section and using spaCy for parses. Not only is this pure Python, but it is more likely what you'll be using for parse analysis as well as machine learning. "
   ]
  },
  {
   "cell_type": "code",
   "execution_count": 2,
   "metadata": {
    "slideshow": {
     "slide_type": "subslide"
    }
   },
   "outputs": [],
   "source": [
    "# Starting the CoreNLPServer \n",
    "from nltk.parse.corenlp import CoreNLPServer \n",
    "\n",
    "# The server needs to know the location of the following files:\n",
    "#   - stanford-corenlp-X.X.X.jar \n",
    "#   - stanford-corenlp-X.X.X-models.jar \n",
    "STANFORD = os.path.join(DATA, \"stanford-corenlp-full-2018-02-27\")\n",
    "\n",
    "# Create the server \n",
    "server = CoreNLPServer(\n",
    "    os.path.join(STANFORD, \"stanford-corenlp-3.9.1.jar\"),\n",
    "    os.path.join(STANFORD, \"stanford-corenlp-3.9.1-models.jar\"),    \n",
    ")\n",
    "\n",
    "# Start the server in the background \n",
    "server.start()"
   ]
  },
  {
   "cell_type": "code",
   "execution_count": 3,
   "metadata": {
    "slideshow": {
     "slide_type": "subslide"
    }
   },
   "outputs": [],
   "source": [
    "from nltk.parse.corenlp import CoreNLPParser \n",
    "\n",
    "parser = CoreNLPParser()\n",
    "parse = next(parser.raw_parse(\"I put the book in the box on the table.\"))"
   ]
  },
  {
   "cell_type": "code",
   "execution_count": 4,
   "metadata": {
    "slideshow": {
     "slide_type": "subslide"
    }
   },
   "outputs": [
    {
     "data": {
      "image/png": "[encoded data removed]",
      "text/plain": [
       "Tree('ROOT', [Tree('S', [Tree('NP', [Tree('PRP', ['I'])]), Tree('VP', [Tree('VBD', ['put']), Tree('NP', [Tree('DT', ['the']), Tree('NN', ['book'])]), Tree('PP', [Tree('IN', ['in']), Tree('NP', [Tree('DT', ['the']), Tree('NN', ['box'])])]), Tree('PP', [Tree('IN', ['on']), Tree('NP', [Tree('DT', ['the']), Tree('NN', ['table'])])])]), Tree('.', ['.'])])])"
      ]
     },
     "execution_count": 4,
     "metadata": {},
     "output_type": "execute_result"
    }
   ],
   "source": [
    "parse"
   ]
  },
  {
   "cell_type": "code",
   "execution_count": 5,
   "metadata": {
    "slideshow": {
     "slide_type": "subslide"
    }
   },
   "outputs": [
    {
     "data": {
      "image/png": "[encoded data removed]",
      "text/plain": [
       "Tree('ROOT', [Tree('SBARQ', [Tree('WHNP', [Tree('WP', ['What'])]), Tree('SQ', [Tree('VBZ', ['is']), Tree('NP', [Tree('NP', [Tree('DT', ['the']), Tree('JJS', ['longest']), Tree('NN', ['river'])]), Tree('PP', [Tree('IN', ['in']), Tree('NP', [Tree('DT', ['the']), Tree('NN', ['world'])])])])]), Tree('.', ['?'])])])"
      ]
     },
     "execution_count": 5,
     "metadata": {},
     "output_type": "execute_result"
    }
   ],
   "source": [
    "next(parser.raw_parse(\"What is the longest river in the world?\"))"
   ]
  },
  {
   "cell_type": "code",
   "execution_count": 6,
   "metadata": {
    "slideshow": {
     "slide_type": "subslide"
    }
   },
   "outputs": [],
   "source": [
    "from nltk.parse.corenlp import CoreNLPDependencyParser \n",
    "\n",
    "parser = CoreNLPDependencyParser()\n",
    "parse = next(parser.raw_parse(\"I put the book in the box on the table.\"))"
   ]
  },
  {
   "cell_type": "code",
   "execution_count": 7,
   "metadata": {
    "slideshow": {
     "slide_type": "subslide"
    }
   },
   "outputs": [
    {
     "data": {
      "image/svg+xml": [
       "<?xml version=\"1.0\" encoding=\"UTF-8\" standalone=\"no\"?>\n",
       "<!DOCTYPE svg PUBLIC \"-//W3C//DTD SVG 1.1//EN\"\n",
       " \"http://www.w3.org/Graphics/SVG/1.1/DTD/svg11.dtd\">\n",
       "<!-- Generated by graphviz version 2.40.1 (20161225.0304)\n",
       " -->\n",
       "<!-- Title: G Pages: 1 -->\n",
       "<svg width=\"378pt\" height=\"302pt\"\n",
       " viewBox=\"0.00 0.00 378.00 302.00\" xmlns=\"http://www.w3.org/2000/svg\" xmlns:xlink=\"http://www.w3.org/1999/xlink\">\n",
       "<g id=\"graph0\" class=\"graph\" transform=\"scale(1 1) rotate(0) translate(4 298)\">\n",
       "<title>G</title>\n",
       "<polygon fill=\"#ffffff\" stroke=\"transparent\" points=\"-4,4 -4,-298 374,-298 374,4 -4,4\"/>\n",
       "<!-- 0 -->\n",
       "<g id=\"node1\" class=\"node\">\n",
       "<title>0</title>\n",
       "<text text-anchor=\"middle\" x=\"182\" y=\"-271.8\" font-family=\"Times,serif\" font-size=\"14.00\" fill=\"#000000\">0 (None)</text>\n",
       "</g>\n",
       "<!-- 2 -->\n",
       "<g id=\"node2\" class=\"node\">\n",
       "<title>2</title>\n",
       "<text text-anchor=\"middle\" x=\"182\" y=\"-185.8\" font-family=\"Times,serif\" font-size=\"14.00\" fill=\"#000000\">2 (put)</text>\n",
       "</g>\n",
       "<!-- 0&#45;&gt;2 -->\n",
       "<g id=\"edge1\" class=\"edge\">\n",
       "<title>0&#45;&gt;2</title>\n",
       "<path fill=\"none\" stroke=\"#000000\" d=\"M182,-257.7616C182,-246.3597 182,-231.4342 182,-218.494\"/>\n",
       "<polygon fill=\"#000000\" stroke=\"#000000\" points=\"185.5001,-218.2121 182,-208.2121 178.5001,-218.2121 185.5001,-218.2121\"/>\n",
       "<text text-anchor=\"middle\" x=\"201.0552\" y=\"-228.8\" font-family=\"Times,serif\" font-size=\"14.00\" fill=\"#000000\">ROOT</text>\n",
       "</g>\n",
       "<!-- 1 -->\n",
       "<g id=\"node3\" class=\"node\">\n",
       "<title>1</title>\n",
       "<text text-anchor=\"middle\" x=\"27\" y=\"-99.8\" font-family=\"Times,serif\" font-size=\"14.00\" fill=\"#000000\">1 (I)</text>\n",
       "</g>\n",
       "<!-- 2&#45;&gt;1 -->\n",
       "<g id=\"edge2\" class=\"edge\">\n",
       "<title>2&#45;&gt;1</title>\n",
       "<path fill=\"none\" stroke=\"#000000\" d=\"M154.7076,-178.3885C139.6931,-171.7303 120.8743,-162.9377 104.6621,-154 90.1473,-145.9981 74.6933,-136.307 61.4245,-127.5953\"/>\n",
       "<polygon fill=\"#000000\" stroke=\"#000000\" points=\"63.32,-124.6526 53.0525,-122.0394 59.4494,-130.4851 63.32,-124.6526\"/>\n",
       "<text text-anchor=\"middle\" x=\"120.1689\" y=\"-142.8\" font-family=\"Times,serif\" font-size=\"14.00\" fill=\"#000000\">nsubj</text>\n",
       "</g>\n",
       "<!-- 4 -->\n",
       "<g id=\"node4\" class=\"node\">\n",
       "<title>4</title>\n",
       "<text text-anchor=\"middle\" x=\"104\" y=\"-99.8\" font-family=\"Times,serif\" font-size=\"14.00\" fill=\"#000000\">4 (book)</text>\n",
       "</g>\n",
       "<!-- 2&#45;&gt;4 -->\n",
       "<g id=\"edge3\" class=\"edge\">\n",
       "<title>2&#45;&gt;4</title>\n",
       "<path fill=\"none\" stroke=\"#000000\" d=\"M165.4582,-171.7616C154.393,-159.5615 139.669,-143.3273 127.4069,-129.8076\"/>\n",
       "<polygon fill=\"#000000\" stroke=\"#000000\" points=\"129.8287,-127.268 120.5179,-122.2121 124.6436,-131.9707 129.8287,-127.268\"/>\n",
       "<text text-anchor=\"middle\" x=\"160.4448\" y=\"-142.8\" font-family=\"Times,serif\" font-size=\"14.00\" fill=\"#000000\">dobj</text>\n",
       "</g>\n",
       "<!-- 7 -->\n",
       "<g id=\"node5\" class=\"node\">\n",
       "<title>7</title>\n",
       "<text text-anchor=\"middle\" x=\"182\" y=\"-99.8\" font-family=\"Times,serif\" font-size=\"14.00\" fill=\"#000000\">7 (box)</text>\n",
       "</g>\n",
       "<!-- 2&#45;&gt;7 -->\n",
       "<g id=\"edge4\" class=\"edge\">\n",
       "<title>2&#45;&gt;7</title>\n",
       "<path fill=\"none\" stroke=\"#000000\" d=\"M182,-171.7616C182,-160.3597 182,-145.4342 182,-132.494\"/>\n",
       "<polygon fill=\"#000000\" stroke=\"#000000\" points=\"185.5001,-132.2121 182,-122.2121 178.5001,-132.2121 185.5001,-132.2121\"/>\n",
       "<text text-anchor=\"middle\" x=\"197.9448\" y=\"-142.8\" font-family=\"Times,serif\" font-size=\"14.00\" fill=\"#000000\">nmod</text>\n",
       "</g>\n",
       "<!-- 10 -->\n",
       "<g id=\"node6\" class=\"node\">\n",
       "<title>10</title>\n",
       "<text text-anchor=\"middle\" x=\"263\" y=\"-99.8\" font-family=\"Times,serif\" font-size=\"14.00\" fill=\"#000000\">10 (table)</text>\n",
       "</g>\n",
       "<!-- 2&#45;&gt;10 -->\n",
       "<g id=\"edge5\" class=\"edge\">\n",
       "<title>2&#45;&gt;10</title>\n",
       "<path fill=\"none\" stroke=\"#000000\" d=\"M200.5027,-171.8695C206.1796,-166.2077 212.4031,-159.8992 218,-154 225.3548,-146.248 233.2008,-137.6499 240.2473,-129.8009\"/>\n",
       "<polygon fill=\"#000000\" stroke=\"#000000\" points=\"242.9302,-132.0512 246.9796,-122.2607 237.7086,-127.3891 242.9302,-132.0512\"/>\n",
       "<text text-anchor=\"middle\" x=\"246.9448\" y=\"-142.8\" font-family=\"Times,serif\" font-size=\"14.00\" fill=\"#000000\">nmod</text>\n",
       "</g>\n",
       "<!-- 11 -->\n",
       "<g id=\"node7\" class=\"node\">\n",
       "<title>11</title>\n",
       "<text text-anchor=\"middle\" x=\"343\" y=\"-99.8\" font-family=\"Times,serif\" font-size=\"14.00\" fill=\"#000000\">11 (.)</text>\n",
       "</g>\n",
       "<!-- 2&#45;&gt;11 -->\n",
       "<g id=\"edge6\" class=\"edge\">\n",
       "<title>2&#45;&gt;11</title>\n",
       "<path fill=\"none\" stroke=\"#000000\" d=\"M209.3798,-179.8675C226.3316,-173.2388 248.3476,-163.9793 267,-154 281.3699,-146.3119 296.5032,-136.6981 309.4499,-127.96\"/>\n",
       "<polygon fill=\"#000000\" stroke=\"#000000\" points=\"311.7549,-130.6235 318.0273,-122.0849 307.7992,-124.8484 311.7549,-130.6235\"/>\n",
       "<text text-anchor=\"middle\" x=\"306.5518\" y=\"-142.8\" font-family=\"Times,serif\" font-size=\"14.00\" fill=\"#000000\">punct</text>\n",
       "</g>\n",
       "<!-- 3 -->\n",
       "<g id=\"node8\" class=\"node\">\n",
       "<title>3</title>\n",
       "<text text-anchor=\"middle\" x=\"47\" y=\"-13.8\" font-family=\"Times,serif\" font-size=\"14.00\" fill=\"#000000\">3 (the)</text>\n",
       "</g>\n",
       "<!-- 4&#45;&gt;3 -->\n",
       "<g id=\"edge7\" class=\"edge\">\n",
       "<title>4&#45;&gt;3</title>\n",
       "<path fill=\"none\" stroke=\"#000000\" d=\"M91.7094,-85.7049C87.9124,-80.0364 83.7231,-73.7655 79.8965,-68 74.8578,-60.4085 69.4113,-52.1513 64.4276,-44.5751\"/>\n",
       "<polygon fill=\"#000000\" stroke=\"#000000\" points=\"67.2585,-42.5099 58.8417,-36.0749 61.4085,-46.3541 67.2585,-42.5099\"/>\n",
       "<text text-anchor=\"middle\" x=\"88.5518\" y=\"-56.8\" font-family=\"Times,serif\" font-size=\"14.00\" fill=\"#000000\">det</text>\n",
       "</g>\n",
       "<!-- 5 -->\n",
       "<g id=\"node9\" class=\"node\">\n",
       "<title>5</title>\n",
       "<text text-anchor=\"middle\" x=\"119\" y=\"-13.8\" font-family=\"Times,serif\" font-size=\"14.00\" fill=\"#000000\">5 (in)</text>\n",
       "</g>\n",
       "<!-- 7&#45;&gt;5 -->\n",
       "<g id=\"edge8\" class=\"edge\">\n",
       "<title>7&#45;&gt;5</title>\n",
       "<path fill=\"none\" stroke=\"#000000\" d=\"M168.6393,-85.7616C159.8691,-73.7896 148.2531,-57.9328 138.463,-44.5685\"/>\n",
       "<polygon fill=\"#000000\" stroke=\"#000000\" points=\"141.0745,-42.2108 132.3414,-36.2121 135.4276,-46.3475 141.0745,-42.2108\"/>\n",
       "<text text-anchor=\"middle\" x=\"167.0449\" y=\"-56.8\" font-family=\"Times,serif\" font-size=\"14.00\" fill=\"#000000\">case</text>\n",
       "</g>\n",
       "<!-- 6 -->\n",
       "<g id=\"node10\" class=\"node\">\n",
       "<title>6</title>\n",
       "<text text-anchor=\"middle\" x=\"191\" y=\"-13.8\" font-family=\"Times,serif\" font-size=\"14.00\" fill=\"#000000\">6 (the)</text>\n",
       "</g>\n",
       "<!-- 7&#45;&gt;6 -->\n",
       "<g id=\"edge9\" class=\"edge\">\n",
       "<title>7&#45;&gt;6</title>\n",
       "<path fill=\"none\" stroke=\"#000000\" d=\"M183.9087,-85.7616C185.1019,-74.3597 186.6639,-59.4342 188.0181,-46.494\"/>\n",
       "<polygon fill=\"#000000\" stroke=\"#000000\" points=\"191.5342,-46.5221 189.0941,-36.2121 184.5722,-45.7935 191.5342,-46.5221\"/>\n",
       "<text text-anchor=\"middle\" x=\"196.5518\" y=\"-56.8\" font-family=\"Times,serif\" font-size=\"14.00\" fill=\"#000000\">det</text>\n",
       "</g>\n",
       "<!-- 8 -->\n",
       "<g id=\"node11\" class=\"node\">\n",
       "<title>8</title>\n",
       "<text text-anchor=\"middle\" x=\"263\" y=\"-13.8\" font-family=\"Times,serif\" font-size=\"14.00\" fill=\"#000000\">8 (on)</text>\n",
       "</g>\n",
       "<!-- 10&#45;&gt;8 -->\n",
       "<g id=\"edge10\" class=\"edge\">\n",
       "<title>10&#45;&gt;8</title>\n",
       "<path fill=\"none\" stroke=\"#000000\" d=\"M263,-85.7616C263,-74.3597 263,-59.4342 263,-46.494\"/>\n",
       "<polygon fill=\"#000000\" stroke=\"#000000\" points=\"266.5001,-46.2121 263,-36.2121 259.5001,-46.2121 266.5001,-46.2121\"/>\n",
       "<text text-anchor=\"middle\" x=\"275.0449\" y=\"-56.8\" font-family=\"Times,serif\" font-size=\"14.00\" fill=\"#000000\">case</text>\n",
       "</g>\n",
       "<!-- 9 -->\n",
       "<g id=\"node12\" class=\"node\">\n",
       "<title>9</title>\n",
       "<text text-anchor=\"middle\" x=\"335\" y=\"-13.8\" font-family=\"Times,serif\" font-size=\"14.00\" fill=\"#000000\">9 (the)</text>\n",
       "</g>\n",
       "<!-- 10&#45;&gt;9 -->\n",
       "<g id=\"edge11\" class=\"edge\">\n",
       "<title>10&#45;&gt;9</title>\n",
       "<path fill=\"none\" stroke=\"#000000\" d=\"M278.2693,-85.7616C288.3879,-73.6756 301.821,-57.6304 313.0757,-44.1874\"/>\n",
       "<polygon fill=\"#000000\" stroke=\"#000000\" points=\"316.0169,-46.1265 319.7527,-36.2121 310.6496,-41.6329 316.0169,-46.1265\"/>\n",
       "<text text-anchor=\"middle\" x=\"312.5518\" y=\"-56.8\" font-family=\"Times,serif\" font-size=\"14.00\" fill=\"#000000\">det</text>\n",
       "</g>\n",
       "</g>\n",
       "</svg>\n"
      ],
      "text/plain": [
       "<DependencyGraph with 12 nodes>"
      ]
     },
     "execution_count": 7,
     "metadata": {},
     "output_type": "execute_result"
    }
   ],
   "source": [
    "parse"
   ]
  },
  {
   "cell_type": "code",
   "execution_count": 8,
   "metadata": {
    "slideshow": {
     "slide_type": "subslide"
    }
   },
   "outputs": [],
   "source": [
    "# Stop the CoreNLP server \n",
    "server.stop()"
   ]
  },
  {
   "cell_type": "markdown",
   "metadata": {
    "slideshow": {
     "slide_type": "slide"
    }
   },
   "source": [
    "### spaCy\n",
    "\n",
    "spaCy is \"industrial-strength natural language processing\" and is built for speed and performance, particularly information extraction from large amounts of data. It is written in Cython, so it still needs to be compiled and installed, but at least it is all Python. "
   ]
  },
  {
   "cell_type": "code",
   "execution_count": 9,
   "metadata": {
    "slideshow": {
     "slide_type": "subslide"
    }
   },
   "outputs": [],
   "source": [
    "import spacy \n",
    "from spacy import displacy\n",
    "\n",
    "# Load the english language models\n",
    "# Required: python -m spacy download en \n",
    "EN = spacy.load(\"en\")"
   ]
  },
  {
   "cell_type": "code",
   "execution_count": 10,
   "metadata": {
    "slideshow": {
     "slide_type": "subslide"
    }
   },
   "outputs": [
    {
     "data": {
      "text/html": [
       "<svg xmlns=\"http://www.w3.org/2000/svg\" xmlns:xlink=\"http://www.w3.org/1999/xlink\" id=\"0\" class=\"displacy\" width=\"1450\" height=\"312.0\" style=\"max-width: none; height: 312.0px; color: #000000; background: #ffffff; font-family: Arial\"><text class=\"displacy-token\" fill=\"currentColor\" text-anchor=\"middle\" y=\"222.0\"><tspan class=\"displacy-word\" fill=\"currentColor\" x=\"50\">The</tspan><tspan class=\"displacy-tag\" dy=\"2em\" fill=\"currentColor\" x=\"50\">DET</tspan></text><text class=\"displacy-token\" fill=\"currentColor\" text-anchor=\"middle\" y=\"222.0\"><tspan class=\"displacy-word\" fill=\"currentColor\" x=\"225\">apple</tspan><tspan class=\"displacy-tag\" dy=\"2em\" fill=\"currentColor\" x=\"225\">NOUN</tspan></text><text class=\"displacy-token\" fill=\"currentColor\" text-anchor=\"middle\" y=\"222.0\"><tspan class=\"displacy-word\" fill=\"currentColor\" x=\"400\">dropped</tspan><tspan class=\"displacy-tag\" dy=\"2em\" fill=\"currentColor\" x=\"400\">VERB</tspan></text><text class=\"displacy-token\" fill=\"currentColor\" text-anchor=\"middle\" y=\"222.0\"><tspan class=\"displacy-word\" fill=\"currentColor\" x=\"575\">not</tspan><tspan class=\"displacy-tag\" dy=\"2em\" fill=\"currentColor\" x=\"575\">ADV</tspan></text><text class=\"displacy-token\" fill=\"currentColor\" text-anchor=\"middle\" y=\"222.0\"><tspan class=\"displacy-word\" fill=\"currentColor\" x=\"750\">far</tspan><tspan class=\"displacy-tag\" dy=\"2em\" fill=\"currentColor\" x=\"750\">ADV</tspan></text><text class=\"displacy-token\" fill=\"currentColor\" text-anchor=\"middle\" y=\"222.0\"><tspan class=\"displacy-word\" fill=\"currentColor\" x=\"925\">from</tspan><tspan class=\"displacy-tag\" dy=\"2em\" fill=\"currentColor\" x=\"925\">ADP</tspan></text><text class=\"displacy-token\" fill=\"currentColor\" text-anchor=\"middle\" y=\"222.0\"><tspan class=\"displacy-word\" fill=\"currentColor\" x=\"1100\">his</tspan><tspan class=\"displacy-tag\" dy=\"2em\" fill=\"currentColor\" x=\"1100\">ADJ</tspan></text><text class=\"displacy-token\" fill=\"currentColor\" text-anchor=\"middle\" y=\"222.0\"><tspan class=\"displacy-word\" fill=\"currentColor\" x=\"1275\">head.</tspan><tspan class=\"displacy-tag\" dy=\"2em\" fill=\"currentColor\" x=\"1275\">NOUN</tspan></text><g class=\"displacy-arrow\"><path class=\"displacy-arc\" id=\"arrow-0-0\" stroke-width=\"2px\" d=\"M70,177.0 C70,89.5 220.0,89.5 220.0,177.0\" fill=\"none\" stroke=\"currentColor\"/><text dy=\"1.25em\" style=\"font-size: 0.8em; letter-spacing: 1px\"><textPath xlink:href=\"#arrow-0-0\" class=\"displacy-label\" startOffset=\"50%\" fill=\"currentColor\" text-anchor=\"middle\">det</textPath></text><path class=\"displacy-arrowhead\" d=\"M70,179.0 L62,167.0 78,167.0\" fill=\"currentColor\"/></g><g class=\"displacy-arrow\"><path class=\"displacy-arc\" id=\"arrow-0-1\" stroke-width=\"2px\" d=\"M245,177.0 C245,89.5 395.0,89.5 395.0,177.0\" fill=\"none\" stroke=\"currentColor\"/><text dy=\"1.25em\" style=\"font-size: 0.8em; letter-spacing: 1px\"><textPath xlink:href=\"#arrow-0-1\" class=\"displacy-label\" startOffset=\"50%\" fill=\"currentColor\" text-anchor=\"middle\">nsubj</textPath></text><path class=\"displacy-arrowhead\" d=\"M245,179.0 L237,167.0 253,167.0\" fill=\"currentColor\"/></g><g class=\"displacy-arrow\"><path class=\"displacy-arc\" id=\"arrow-0-2\" stroke-width=\"2px\" d=\"M595,177.0 C595,89.5 745.0,89.5 745.0,177.0\" fill=\"none\" stroke=\"currentColor\"/><text dy=\"1.25em\" style=\"font-size: 0.8em; letter-spacing: 1px\"><textPath xlink:href=\"#arrow-0-2\" class=\"displacy-label\" startOffset=\"50%\" fill=\"currentColor\" text-anchor=\"middle\">neg</textPath></text><path class=\"displacy-arrowhead\" d=\"M595,179.0 L587,167.0 603,167.0\" fill=\"currentColor\"/></g><g class=\"displacy-arrow\"><path class=\"displacy-arc\" id=\"arrow-0-3\" stroke-width=\"2px\" d=\"M420,177.0 C420,2.0 750.0,2.0 750.0,177.0\" fill=\"none\" stroke=\"currentColor\"/><text dy=\"1.25em\" style=\"font-size: 0.8em; letter-spacing: 1px\"><textPath xlink:href=\"#arrow-0-3\" class=\"displacy-label\" startOffset=\"50%\" fill=\"currentColor\" text-anchor=\"middle\">advmod</textPath></text><path class=\"displacy-arrowhead\" d=\"M750.0,179.0 L758.0,167.0 742.0,167.0\" fill=\"currentColor\"/></g><g class=\"displacy-arrow\"><path class=\"displacy-arc\" id=\"arrow-0-4\" stroke-width=\"2px\" d=\"M770,177.0 C770,89.5 920.0,89.5 920.0,177.0\" fill=\"none\" stroke=\"currentColor\"/><text dy=\"1.25em\" style=\"font-size: 0.8em; letter-spacing: 1px\"><textPath xlink:href=\"#arrow-0-4\" class=\"displacy-label\" startOffset=\"50%\" fill=\"currentColor\" text-anchor=\"middle\">prep</textPath></text><path class=\"displacy-arrowhead\" d=\"M920.0,179.0 L928.0,167.0 912.0,167.0\" fill=\"currentColor\"/></g><g class=\"displacy-arrow\"><path class=\"displacy-arc\" id=\"arrow-0-5\" stroke-width=\"2px\" d=\"M1120,177.0 C1120,89.5 1270.0,89.5 1270.0,177.0\" fill=\"none\" stroke=\"currentColor\"/><text dy=\"1.25em\" style=\"font-size: 0.8em; letter-spacing: 1px\"><textPath xlink:href=\"#arrow-0-5\" class=\"displacy-label\" startOffset=\"50%\" fill=\"currentColor\" text-anchor=\"middle\">poss</textPath></text><path class=\"displacy-arrowhead\" d=\"M1120,179.0 L1112,167.0 1128,167.0\" fill=\"currentColor\"/></g><g class=\"displacy-arrow\"><path class=\"displacy-arc\" id=\"arrow-0-6\" stroke-width=\"2px\" d=\"M945,177.0 C945,2.0 1275.0,2.0 1275.0,177.0\" fill=\"none\" stroke=\"currentColor\"/><text dy=\"1.25em\" style=\"font-size: 0.8em; letter-spacing: 1px\"><textPath xlink:href=\"#arrow-0-6\" class=\"displacy-label\" startOffset=\"50%\" fill=\"currentColor\" text-anchor=\"middle\">pobj</textPath></text><path class=\"displacy-arrowhead\" d=\"M1275.0,179.0 L1283.0,167.0 1267.0,167.0\" fill=\"currentColor\"/></g></svg>"
      ],
      "text/plain": [
       "<IPython.core.display.HTML object>"
      ]
     },
     "metadata": {},
     "output_type": "display_data"
    }
   ],
   "source": [
    "# Parse and analyze the sentence/document \n",
    "doc = EN(\"The apple dropped not far from his head.\")\n",
    "\n",
    "# Draw the dependency tree into the notebook \n",
    "displacy.render(doc, style='dep', minify=True, jupyter=True)"
   ]
  },
  {
   "cell_type": "markdown",
   "metadata": {
    "slideshow": {
     "slide_type": "slide"
    }
   },
   "source": [
    "## spaCy Preprocessing\n",
    "\n",
    "While we're here; we can review how to perform some of the preprocessing tasks we explored with NLTK last week, this time using spaCy: \n",
    "\n",
    "- Segmentation \n",
    "- Tokenization \n",
    "- Part of Speech Tagging "
   ]
  },
  {
   "cell_type": "code",
   "execution_count": 11,
   "metadata": {
    "scrolled": true,
    "slideshow": {
     "slide_type": "subslide"
    }
   },
   "outputs": [
    {
     "data": {
      "text/plain": [
       " Downtown Washington turned red Thursday afternoon and evening, as fans turned out in unprecedented numbers to watch Game 5 of the Stanley Cup finals. The area around Capital One Arena was packed for blocks in every direction; fans queued up in massive lines outside bars, restaurants, sandwich shops and liquor stores. They filled the G Street watch party between 7th and 9th Streets hours before the Washington Capitals began their quest to clinch their first Stanley Cup. Meanwhile, thousands poured into a different watch party inside the arena. Inside the arena, fans roared during every pregame clip of the Capitals, roared during every near miss, roared during the first intermission when Caps broadcasters led a round of “Let’s Go Caps!” chants. When Washington killed a second-period power play, the noise inside the arena was earsplitting. When Jakub Vrana scored on a breakaway moments later, the noise was … what’s louder than ear-splitting? VIDEO CELEBRATIONS | CELEBRITIES AND FORMER CAPS | PREGAME AND WATCH PARTIES Outside, the fans weren’t just 20-somethings shotgunning beers. There were senior citizens and adults in work clothes and a whole lot of people wearing red. As the final horn sounded, giving the Capitals a 4-3 victory over the Golden Knights and their first Stanley Cup championship, fans watching the game inside Capital One Arena stormed the court that hours earlier had hosted a WNBA game between the Washington Mystics and Minnesota Lynx. Chuck Brown’s “Bustin’ Loose” blared through the speaker system. Outside the arena, pandemonium reigned from the moment Lars Eller scored the decisive goal with 7:37 left in the third period. Fans hugged strangers. Fans high-fived police officers. Cab drivers stopped in the middle of the street to take pictures. Fans stopped in the middle of the street to scream. One fan got his head bandaged by paramedics and then went back into the swarm. The scene was mayhem, the soundtrack of horns everywhere, honking in rhythm.    Fans erupted in joy after watching the Capitals win their very first Stanley Cup outside the Capital One Arena. (Michael Robinson Chavez/The Washington Post)  [Capitals win first Stanley Cup championship] Dwain Watts, 34, was at the National Portrait Gallery steps not long after midnight, holding up a copy of The Washington Post’s street edition. He was just a kid the last time the Caps went to the finals, and said this felt like redemption. When asked what he thought this meant for the city, he replied: “Everything.” “Look at it,” he said. “Look at it!” His friend, Aaris Johnson, said the win left him in tears. He was already planning a trip to a tattoo shop to commemorate it. “I’m so happy right now,” Johnson said. “I can’t believe this is happening.” “D.C. is alive,” said Zack Vinson, 29, of Ashburn. “Unlike anything I’ve ever seen before,” said Mark Creamer, 22, of Gaithersburg. There were other large watch parties elsewhere in the city and in suburban outposts, too. But the epicenter was in Chinatown, where it felt (and smelled) like Mardi Gras during the biggest party of these playoffs. There were long lines to gain entry to every restaurant and bar in the neighborhood, and those who didn’t want to wait for a table lined up at Walgreens and drank openly in the street. Fans stood on trash cans and bus stop benches to get the best possible views of the screens. Crowds kept streaming into the area long after the game started, and officials closed a portion of Ninth Street that had previously been open to traffic during the second period. The fans standing in that area couldn’t even see the game broadcast; they were packed in behind one of the giant screens. Calvin Gidney, 13, stood near the front of the crowd, wearing a red shirt and a hockey helmet. He held a sign that read, “One More Win.” “I don’t know how to describe it,” he said when asked what a Caps win would mean. “Literally, like six months ago, I had a dream about us making the Cup. It’s just been a long time since D.C.’s had a championship.” That was part of it; none of Washington’s major pro sports teams had won a title since the Redskins’ Super Bowl triumph in 1992. The weather played a part, too; it was mild and beautiful, with temperatures in the low 70s. And so fans poured into the city: at National Harbor and the Bullpen outside Nationals Park, at the Wharf and the U.S. Navy Memorial, at town centers in Fairfax County and Montgomery County, and inside every bar and restaurant within blocks of the arena. The Avalon Theatre in Northwest, Washington’s oldest operating movie house, canceled a screening of “Book Club” so staffers could watch the game. Friars wore Caps jerseys at the Franciscan Monastery in Northeast. WMATA buses carried the message “GO CAPS!” and schoolteachers wrote about the game on their whiteboards. It’s not exaggeration to say there had never been a night quite like this in the District. When the Bullets won a championship 40 years ago, the team was based in Maryland. When the Redskins were winning Super Bowls, Chinatown was a far different neighborhood, and the Washington area a far different region. And so even casual sports fans had to be a part of this. There were those who came in work clothes simply to check out the wild scene, and others who just wanted to see what the hype was about. Eyerusalem Gebremeskel, 21, was one of those fans not decked out in red. The Silver Spring native isn’t a big hockey fan, but a group of friends she knew from high school at St. John’s in Northwest wanted to come down and watch, and she didn’t want to miss out. “Even though I’m not a big sports fan and I don’t know much about hockey, it just felt like if you’re from the D.C. area, this was the thing you couldn’t miss,” she said. “It’s like a party down here. There are so many different groups of people walking around, watching. It’s really powerful to see that sports can do that.” “It’s beautiful,” said Bobby Parrish of Virginia, an hour from his 30th birthday. “This is incredible. I mean, I’ve grown up being disappointed and yet I still come back. Sometimes I don’t know why. Until it finally happens. It’s why you wasted so many years supporting this team. I mean, it’s so rewarding.” After the win, Liam Rucker, 22, stood in the crowd not far from the Portrait Gallery steps, and said he was in “disbelief.” This was something he never thought would happen for this team, he said. “I still don’t,” he said. “I can’t believe this happened.” “There was that familiar Washington doubt, but not this series,” said Patrick Amerena of Frederick. “We just had a feeling about this time that we’d close it out.” “The demons are gone.” Travis Tuthill, a 20-year-old Caps fan from New Jersey, stood outside Capital One Arena at around midnight, holding a sign that said, “Worth the Wait.” “What happened last year, against the Penguins, I swear, I thought, I genuinely thought, I would never, ever see this happen in my life,” he said. So was it worth the wait? “Oh my God,” he said. “Absolutely.” Wes Johnson: ‘Let’s have a party’ Event staff stood over boxes stacked chest high in the first row of bleachers over the boards in the corner. Inside were hats and T-shirts, the same ones Capitals players wore on the ice at T-Mobile Arena. They were selling fast. Among the buyers: Wes Johnson, the public address announcer famous for unleashing the fury. As the clock rolled past midnight, there was no fire left in his belly, he said. He was a teddy bear of handshakes and hugs. “We did it,” co-workers said again and again and again, which kept him on the verge of tears. “When the fans stormed the court, I said, ‘No, get back.’ But why bother?” he said. “Let’s have a party.” Johnson took over Capitals public address duties 18 years ago, and each year, the team was felled by some demon that felt familiar: the Penguins, the Rangers, a stupid penalty, a shot off the post, bad puck luck. “Tonight they weathered the adversity,” he said. “They fought back, and they got a scrappy win. “I don’t even know how to feel,” he continued. “I laughed, I cried. I mean, everything. To look up there and be able to see Ovechkin lift that trophy, that makes me emotional.” Don’t go to the airport, fans From Metropolitan Washington Airport Authority: “The Caps are Stanley Cup Champions! Please do not come to the airport to greet the team. There will not be public events at the airport & fans who arrive will be turned away by police. The @Capitals are working on a victory celebration for everyone. Thank you and GO CAPS!!!” The streets go quiet Around 1 o’clock, street sweepers hummed around the corner of the city block police cordoned off for fans. Bars began letting out, and the Metro — with its service hours twice extended — closed for the night. Left was a city strewn with the debris of revelers: newspapers, beer bottles, fast food wrappers and the occasional flip flop. By 1:30, the night of the Capitals’ first championship was complete. All that was missing was the Stanley Cup, and the District was assured it was on the way. CELEBRATIONS Celebrities and former Caps tweet congrats and celebrations PREGAME    (Matt McClain/The Washington Post)     Capitals fans prepare to watch Game 5 of the Stanley Cup finals outside Capital One Arena. (Ricky Carioti/The Washington Post)     Fans gather outside Capital One Arena. (Michael Robinson Chavez/The Washington Post)     Fans outside Capital One Arena. (Photo by Ricky Carioti/The Washington Post).  Read more of the Post’s Stanley Cup finals coverage: T.J. Oshie held back tears as he shared the Stanley Cup with his dad For Capitals and their fans, tears of joy replace years of frustration Capitals win Stanley Cup, Washington’s first major sports championship since 1992 Alex Ovechkin wins the Stanley Cup — and secures his legacy The Capitals’ supporting cast was again center stage in Stanley Cup clincher Vegas Golden Knights may have stumbled in Stanley Cup finals, but best is yet to come Capitals, and Washington, celebrate a victory decades in the making  "
      ]
     },
     "execution_count": 11,
     "metadata": {},
     "output_type": "execute_result"
    }
   ],
   "source": [
    "from utils.wapo import save_wapo, load_wapo\n",
    "\n",
    "save_wapo(\"2JEisx5\", category=\"sports\")\n",
    "doc = EN(load_wapo(\"2JEisx5\"))\n",
    "doc"
   ]
  },
  {
   "cell_type": "code",
   "execution_count": 12,
   "metadata": {
    "slideshow": {
     "slide_type": "subslide"
    }
   },
   "outputs": [
    {
     "name": "stdout",
     "output_type": "stream",
     "text": [
      "166\n",
      " Downtown Washington turned red Thursday afternoon and evening, as fans turned out in unprecedented numbers to watch Game 5 of the Stanley Cup finals.\n",
      "Chuck Brown’s “Bustin’ Loose” blared through the speaker system.\n"
     ]
    }
   ],
   "source": [
    "sents = list(doc.sents)\n",
    "print(len(sents))\n",
    "print(sents[0])\n",
    "print(sents[14])"
   ]
  },
  {
   "cell_type": "code",
   "execution_count": 13,
   "metadata": {
    "slideshow": {
     "slide_type": "subslide"
    }
   },
   "outputs": [
    {
     "name": "stdout",
     "output_type": "stream",
     "text": [
      "2134\n",
      "turned\n"
     ]
    }
   ],
   "source": [
    "tokens = list(doc)\n",
    "print(len(tokens))\n",
    "print(tokens[12])"
   ]
  },
  {
   "cell_type": "code",
   "execution_count": 14,
   "metadata": {
    "scrolled": false,
    "slideshow": {
     "slide_type": "subslide"
    }
   },
   "outputs": [
    {
     "name": "stdout",
     "output_type": "stream",
     "text": [
      "Text           Lemma          POS    Tag    Dep       Alpha    Stop\n",
      "-------------  -------------  -----  -----  --------  -------  ------\n",
      "                              SPACE                   False    False\n",
      "Downtown       downtown       PROPN  NNP    compound  True     False\n",
      "Washington     washington     PROPN  NNP    nsubj     True     False\n",
      "turned         turn           VERB   VBD    ROOT      True     False\n",
      "red            red            ADJ    JJ     acomp     True     False\n",
      "Thursday       thursday       PROPN  NNP    compound  True     False\n",
      "afternoon      afternoon      NOUN   NN     npadvmod  True     False\n",
      "and            and            CCONJ  CC     cc        True     True\n",
      "evening        evening        NOUN   NN     conj      True     False\n",
      ",              ,              PUNCT  ,      punct     False    False\n",
      "as             as             ADP    IN     mark      True     True\n",
      "fans           fan            NOUN   NNS    nsubj     True     False\n",
      "turned         turn           VERB   VBD    advcl     True     False\n",
      "out            out            PART   RP     prt       True     True\n",
      "in             in             ADP    IN     prep      True     True\n",
      "unprecedented  unprecedented  ADJ    JJ     amod      True     False\n",
      "numbers        number         NOUN   NNS    pobj      True     False\n",
      "to             to             PART   TO     aux       True     True\n",
      "watch          watch          VERB   VB     advcl     True     False\n",
      "Game           game           PROPN  NNP    dobj      True     False\n"
     ]
    }
   ],
   "source": [
    "from tabulate import tabulate \n",
    "\n",
    "table = [[\"Text\", \"Lemma\", \"POS\", \"Tag\", \"Dep\", \"Alpha\", \"Stop\"]]\n",
    "for token in doc[:20]:\n",
    "    table.append([\n",
    "        token.text, token.lemma_, token.pos_, token.tag_, \n",
    "        token.dep_, token.is_alpha, token.is_stop\n",
    "    ])\n",
    "print(tabulate(table, tablefmt=\"simple\", headers=\"firstrow\"))"
   ]
  },
  {
   "cell_type": "markdown",
   "metadata": {
    "slideshow": {
     "slide_type": "slide"
    }
   },
   "source": [
    "## Parse Trees to Information \n",
    "\n",
    "Now that you have a parse tree, we can start using these structures to infer information of interest. We'll take a look at two related methods for detecting significant noun phrases:\n",
    "\n",
    "- Named Entity Recognition and Classification (NERC) \n",
    "- Keyphrase extraction"
   ]
  },
  {
   "cell_type": "markdown",
   "metadata": {
    "slideshow": {
     "slide_type": "slide"
    }
   },
   "source": [
    "## Named Entity Recognition \n",
    "\n",
    "![NER Classes](figures/s2_ner.png)"
   ]
  },
  {
   "cell_type": "markdown",
   "metadata": {
    "slideshow": {
     "slide_type": "subslide"
    }
   },
   "source": [
    "> \"Speaker of the House of Representatives of the United States\" \n",
    "\n",
    "> \"The Good Ship Samantha sailed down the River Nile\" "
   ]
  },
  {
   "cell_type": "markdown",
   "metadata": {
    "slideshow": {
     "slide_type": "subslide"
    }
   },
   "source": [
    "### NER Tags \n",
    "\n",
    "There are many named entity tagsets from the simple (Wikipedia) to the more exetensive (OntoNotes). Here is a sample of commonly used tags:\n",
    "\n",
    "\n",
    "| Tag          | Meaning                            | Example                      |\n",
    "|--------------|------------------------------------|------------------------------|\n",
    "| ORGANIZATION | Corporate actor, not single person | Apple, Inc., NYSE            |\n",
    "| PERSON       | Individual or position             | Tom Smith, Captain Jones     |\n",
    "| LOCATION     | Named point of interest            | Grand Canyon, Chesapeake Bay |\n",
    "| DATE         | Any calendar representation        | October, 2014-12-25          |\n",
    "| TIME         | Any clock representation           | two thirty am, 9:23 p.m.     |\n",
    "| MONEY        | Any monetary representation        | 3 hundred dollars, GBP 10.40 |\n",
    "| PERCENT      | Percentage representation          | twenty pct, 18.75%           |\n",
    "| FACILITY     | Building point of interest         | Lincoln Memorial, Stonehenge |\n",
    "| GPE          | Global political entity            | South East Asia, Maryland    |"
   ]
  },
  {
   "cell_type": "markdown",
   "metadata": {
    "slideshow": {
     "slide_type": "slide"
    }
   },
   "source": [
    "### spaCy NER "
   ]
  },
  {
   "cell_type": "code",
   "execution_count": 17,
   "metadata": {
    "slideshow": {
     "slide_type": "subslide"
    }
   },
   "outputs": [
    {
     "data": {
      "text/html": [
       "<div class=\"entities\" style=\"line-height: 2.5\"> Downtown <mark class=\"entity\" style=\"background: #feca74; padding: 0.45em 0.6em; margin: 0 0.25em; line-height: 1; border-radius: 0.35em; box-decoration-break: clone; -webkit-box-decoration-break: clone\">Washington<span style=\"font-size: 0.8em; font-weight: bold; line-height: 1; border-radius: 0.35em; text-transform: uppercase; vertical-align: middle; margin-left: 0.5rem\">GPE</span></mark> turned red <mark class=\"entity\" style=\"background: #bfe1d9; padding: 0.45em 0.6em; margin: 0 0.25em; line-height: 1; border-radius: 0.35em; box-decoration-break: clone; -webkit-box-decoration-break: clone\">Thursday afternoon and evening<span style=\"font-size: 0.8em; font-weight: bold; line-height: 1; border-radius: 0.35em; text-transform: uppercase; vertical-align: middle; margin-left: 0.5rem\">TIME</span></mark>, as fans turned out in unprecedented numbers to watch <mark class=\"entity\" style=\"background: #ff8197; padding: 0.45em 0.6em; margin: 0 0.25em; line-height: 1; border-radius: 0.35em; box-decoration-break: clone; -webkit-box-decoration-break: clone\">Game 5<span style=\"font-size: 0.8em; font-weight: bold; line-height: 1; border-radius: 0.35em; text-transform: uppercase; vertical-align: middle; margin-left: 0.5rem\">LAW</span></mark> of <mark class=\"entity\" style=\"background: #ffeb80; padding: 0.45em 0.6em; margin: 0 0.25em; line-height: 1; border-radius: 0.35em; box-decoration-break: clone; -webkit-box-decoration-break: clone\">the Stanley Cup<span style=\"font-size: 0.8em; font-weight: bold; line-height: 1; border-radius: 0.35em; text-transform: uppercase; vertical-align: middle; margin-left: 0.5rem\">EVENT</span></mark> finals. The area around <mark class=\"entity\" style=\"background: #ddd; padding: 0.45em 0.6em; margin: 0 0.25em; line-height: 1; border-radius: 0.35em; box-decoration-break: clone; -webkit-box-decoration-break: clone\">Capital One Arena<span style=\"font-size: 0.8em; font-weight: bold; line-height: 1; border-radius: 0.35em; text-transform: uppercase; vertical-align: middle; margin-left: 0.5rem\">FAC</span></mark> was packed for blocks in every direction; fans queued up in massive lines outside bars, restaurants, sandwich shops and liquor stores. They filled the G Street watch party <mark class=\"entity\" style=\"background: #bfe1d9; padding: 0.45em 0.6em; margin: 0 0.25em; line-height: 1; border-radius: 0.35em; box-decoration-break: clone; -webkit-box-decoration-break: clone\">between 7th and 9th Streets hours before<span style=\"font-size: 0.8em; font-weight: bold; line-height: 1; border-radius: 0.35em; text-transform: uppercase; vertical-align: middle; margin-left: 0.5rem\">DATE</span></mark> <mark class=\"entity\" style=\"background: #7aecec; padding: 0.45em 0.6em; margin: 0 0.25em; line-height: 1; border-radius: 0.35em; box-decoration-break: clone; -webkit-box-decoration-break: clone\">the Washington Capitals<span style=\"font-size: 0.8em; font-weight: bold; line-height: 1; border-radius: 0.35em; text-transform: uppercase; vertical-align: middle; margin-left: 0.5rem\">ORG</span></mark> began their quest to clinch their <mark class=\"entity\" style=\"background: #e4e7d2; padding: 0.45em 0.6em; margin: 0 0.25em; line-height: 1; border-radius: 0.35em; box-decoration-break: clone; -webkit-box-decoration-break: clone\">first<span style=\"font-size: 0.8em; font-weight: bold; line-height: 1; border-radius: 0.35em; text-transform: uppercase; vertical-align: middle; margin-left: 0.5rem\">ORDINAL</span></mark> <mark class=\"entity\" style=\"background: #ffeb80; padding: 0.45em 0.6em; margin: 0 0.25em; line-height: 1; border-radius: 0.35em; box-decoration-break: clone; -webkit-box-decoration-break: clone\">Stanley Cup<span style=\"font-size: 0.8em; font-weight: bold; line-height: 1; border-radius: 0.35em; text-transform: uppercase; vertical-align: middle; margin-left: 0.5rem\">EVENT</span></mark>. Meanwhile, <mark class=\"entity\" style=\"background: #e4e7d2; padding: 0.45em 0.6em; margin: 0 0.25em; line-height: 1; border-radius: 0.35em; box-decoration-break: clone; -webkit-box-decoration-break: clone\">thousands<span style=\"font-size: 0.8em; font-weight: bold; line-height: 1; border-radius: 0.35em; text-transform: uppercase; vertical-align: middle; margin-left: 0.5rem\">CARDINAL</span></mark> poured into a different watch party inside the arena. Inside the arena, fans roared during every pregame clip of the Capitals, roared during every near miss, roared during the <mark class=\"entity\" style=\"background: #e4e7d2; padding: 0.45em 0.6em; margin: 0 0.25em; line-height: 1; border-radius: 0.35em; box-decoration-break: clone; -webkit-box-decoration-break: clone\">first<span style=\"font-size: 0.8em; font-weight: bold; line-height: 1; border-radius: 0.35em; text-transform: uppercase; vertical-align: middle; margin-left: 0.5rem\">ORDINAL</span></mark> intermission when <mark class=\"entity\" style=\"background: #aa9cfc; padding: 0.45em 0.6em; margin: 0 0.25em; line-height: 1; border-radius: 0.35em; box-decoration-break: clone; -webkit-box-decoration-break: clone\">Caps<span style=\"font-size: 0.8em; font-weight: bold; line-height: 1; border-radius: 0.35em; text-transform: uppercase; vertical-align: middle; margin-left: 0.5rem\">PERSON</span></mark> broadcasters led a round of “<mark class=\"entity\" style=\"background: #f0d0ff; padding: 0.45em 0.6em; margin: 0 0.25em; line-height: 1; border-radius: 0.35em; box-decoration-break: clone; -webkit-box-decoration-break: clone\">Let’s Go Caps<span style=\"font-size: 0.8em; font-weight: bold; line-height: 1; border-radius: 0.35em; text-transform: uppercase; vertical-align: middle; margin-left: 0.5rem\">WORK_OF_ART</span></mark>!” chants. When <mark class=\"entity\" style=\"background: #feca74; padding: 0.45em 0.6em; margin: 0 0.25em; line-height: 1; border-radius: 0.35em; box-decoration-break: clone; -webkit-box-decoration-break: clone\">Washington<span style=\"font-size: 0.8em; font-weight: bold; line-height: 1; border-radius: 0.35em; text-transform: uppercase; vertical-align: middle; margin-left: 0.5rem\">GPE</span></mark> killed a <mark class=\"entity\" style=\"background: #e4e7d2; padding: 0.45em 0.6em; margin: 0 0.25em; line-height: 1; border-radius: 0.35em; box-decoration-break: clone; -webkit-box-decoration-break: clone\">second<span style=\"font-size: 0.8em; font-weight: bold; line-height: 1; border-radius: 0.35em; text-transform: uppercase; vertical-align: middle; margin-left: 0.5rem\">ORDINAL</span></mark>-period power play, the noise inside the arena was earsplitting. When <mark class=\"entity\" style=\"background: #aa9cfc; padding: 0.45em 0.6em; margin: 0 0.25em; line-height: 1; border-radius: 0.35em; box-decoration-break: clone; -webkit-box-decoration-break: clone\">Jakub Vrana<span style=\"font-size: 0.8em; font-weight: bold; line-height: 1; border-radius: 0.35em; text-transform: uppercase; vertical-align: middle; margin-left: 0.5rem\">PERSON</span></mark> scored on a breakaway moments later, the noise was … what’s louder than ear-splitting? VIDEO CELEBRATIONS | CELEBRITIES AND FORMER <mark class=\"entity\" style=\"background: #7aecec; padding: 0.45em 0.6em; margin: 0 0.25em; line-height: 1; border-radius: 0.35em; box-decoration-break: clone; -webkit-box-decoration-break: clone\">CAPS<span style=\"font-size: 0.8em; font-weight: bold; line-height: 1; border-radius: 0.35em; text-transform: uppercase; vertical-align: middle; margin-left: 0.5rem\">ORG</span></mark> |<mark class=\"entity\" style=\"background: #aa9cfc; padding: 0.45em 0.6em; margin: 0 0.25em; line-height: 1; border-radius: 0.35em; box-decoration-break: clone; -webkit-box-decoration-break: clone\"> <span style=\"font-size: 0.8em; font-weight: bold; line-height: 1; border-radius: 0.35em; text-transform: uppercase; vertical-align: middle; margin-left: 0.5rem\">PERSON</span></mark><mark class=\"entity\" style=\"background: #feca74; padding: 0.45em 0.6em; margin: 0 0.25em; line-height: 1; border-radius: 0.35em; box-decoration-break: clone; -webkit-box-decoration-break: clone\">PREGAME<span style=\"font-size: 0.8em; font-weight: bold; line-height: 1; border-radius: 0.35em; text-transform: uppercase; vertical-align: middle; margin-left: 0.5rem\">GPE</span></mark> AND <mark class=\"entity\" style=\"background: #f0d0ff; padding: 0.45em 0.6em; margin: 0 0.25em; line-height: 1; border-radius: 0.35em; box-decoration-break: clone; -webkit-box-decoration-break: clone\">WATCH PARTIES Outside<span style=\"font-size: 0.8em; font-weight: bold; line-height: 1; border-radius: 0.35em; text-transform: uppercase; vertical-align: middle; margin-left: 0.5rem\">WORK_OF_ART</span></mark>, the fans weren’t just 20-somethings shotgunning beers. There were senior citizens and adults in work clothes and a whole lot of people wearing red. As the final horn sounded, giving the Capitals a <mark class=\"entity\" style=\"background: #e4e7d2; padding: 0.45em 0.6em; margin: 0 0.25em; line-height: 1; border-radius: 0.35em; box-decoration-break: clone; -webkit-box-decoration-break: clone\">4-3<span style=\"font-size: 0.8em; font-weight: bold; line-height: 1; border-radius: 0.35em; text-transform: uppercase; vertical-align: middle; margin-left: 0.5rem\">CARDINAL</span></mark> victory over <mark class=\"entity\" style=\"background: #ddd; padding: 0.45em 0.6em; margin: 0 0.25em; line-height: 1; border-radius: 0.35em; box-decoration-break: clone; -webkit-box-decoration-break: clone\">the Golden Knights<span style=\"font-size: 0.8em; font-weight: bold; line-height: 1; border-radius: 0.35em; text-transform: uppercase; vertical-align: middle; margin-left: 0.5rem\">FAC</span></mark> and their <mark class=\"entity\" style=\"background: #e4e7d2; padding: 0.45em 0.6em; margin: 0 0.25em; line-height: 1; border-radius: 0.35em; box-decoration-break: clone; -webkit-box-decoration-break: clone\">first<span style=\"font-size: 0.8em; font-weight: bold; line-height: 1; border-radius: 0.35em; text-transform: uppercase; vertical-align: middle; margin-left: 0.5rem\">ORDINAL</span></mark> <mark class=\"entity\" style=\"background: #ffeb80; padding: 0.45em 0.6em; margin: 0 0.25em; line-height: 1; border-radius: 0.35em; box-decoration-break: clone; -webkit-box-decoration-break: clone\">Stanley Cup<span style=\"font-size: 0.8em; font-weight: bold; line-height: 1; border-radius: 0.35em; text-transform: uppercase; vertical-align: middle; margin-left: 0.5rem\">EVENT</span></mark> championship, fans watching the game inside Capital <mark class=\"entity\" style=\"background: #e4e7d2; padding: 0.45em 0.6em; margin: 0 0.25em; line-height: 1; border-radius: 0.35em; box-decoration-break: clone; -webkit-box-decoration-break: clone\">One<span style=\"font-size: 0.8em; font-weight: bold; line-height: 1; border-radius: 0.35em; text-transform: uppercase; vertical-align: middle; margin-left: 0.5rem\">CARDINAL</span></mark> <mark class=\"entity\" style=\"background: #7aecec; padding: 0.45em 0.6em; margin: 0 0.25em; line-height: 1; border-radius: 0.35em; box-decoration-break: clone; -webkit-box-decoration-break: clone\">Arena<span style=\"font-size: 0.8em; font-weight: bold; line-height: 1; border-radius: 0.35em; text-transform: uppercase; vertical-align: middle; margin-left: 0.5rem\">ORG</span></mark> stormed the court <mark class=\"entity\" style=\"background: #bfe1d9; padding: 0.45em 0.6em; margin: 0 0.25em; line-height: 1; border-radius: 0.35em; box-decoration-break: clone; -webkit-box-decoration-break: clone\">that hours earlier<span style=\"font-size: 0.8em; font-weight: bold; line-height: 1; border-radius: 0.35em; text-transform: uppercase; vertical-align: middle; margin-left: 0.5rem\">TIME</span></mark> had hosted a <mark class=\"entity\" style=\"background: #7aecec; padding: 0.45em 0.6em; margin: 0 0.25em; line-height: 1; border-radius: 0.35em; box-decoration-break: clone; -webkit-box-decoration-break: clone\">WNBA<span style=\"font-size: 0.8em; font-weight: bold; line-height: 1; border-radius: 0.35em; text-transform: uppercase; vertical-align: middle; margin-left: 0.5rem\">ORG</span></mark> game between <mark class=\"entity\" style=\"background: #7aecec; padding: 0.45em 0.6em; margin: 0 0.25em; line-height: 1; border-radius: 0.35em; box-decoration-break: clone; -webkit-box-decoration-break: clone\">the Washington Mystics<span style=\"font-size: 0.8em; font-weight: bold; line-height: 1; border-radius: 0.35em; text-transform: uppercase; vertical-align: middle; margin-left: 0.5rem\">ORG</span></mark> and <mark class=\"entity\" style=\"background: #aa9cfc; padding: 0.45em 0.6em; margin: 0 0.25em; line-height: 1; border-radius: 0.35em; box-decoration-break: clone; -webkit-box-decoration-break: clone\">Minnesota Lynx<span style=\"font-size: 0.8em; font-weight: bold; line-height: 1; border-radius: 0.35em; text-transform: uppercase; vertical-align: middle; margin-left: 0.5rem\">PERSON</span></mark>. <mark class=\"entity\" style=\"background: #aa9cfc; padding: 0.45em 0.6em; margin: 0 0.25em; line-height: 1; border-radius: 0.35em; box-decoration-break: clone; -webkit-box-decoration-break: clone\">Chuck Brown’s<span style=\"font-size: 0.8em; font-weight: bold; line-height: 1; border-radius: 0.35em; text-transform: uppercase; vertical-align: middle; margin-left: 0.5rem\">PERSON</span></mark> <mark class=\"entity\" style=\"background: #f0d0ff; padding: 0.45em 0.6em; margin: 0 0.25em; line-height: 1; border-radius: 0.35em; box-decoration-break: clone; -webkit-box-decoration-break: clone\">“Bustin’ Loose”<span style=\"font-size: 0.8em; font-weight: bold; line-height: 1; border-radius: 0.35em; text-transform: uppercase; vertical-align: middle; margin-left: 0.5rem\">WORK_OF_ART</span></mark> blared through the speaker system. Outside the arena, pandemonium reigned from the moment <mark class=\"entity\" style=\"background: #aa9cfc; padding: 0.45em 0.6em; margin: 0 0.25em; line-height: 1; border-radius: 0.35em; box-decoration-break: clone; -webkit-box-decoration-break: clone\">Lars Eller<span style=\"font-size: 0.8em; font-weight: bold; line-height: 1; border-radius: 0.35em; text-transform: uppercase; vertical-align: middle; margin-left: 0.5rem\">PERSON</span></mark> scored the decisive goal with <mark class=\"entity\" style=\"background: #e4e7d2; padding: 0.45em 0.6em; margin: 0 0.25em; line-height: 1; border-radius: 0.35em; box-decoration-break: clone; -webkit-box-decoration-break: clone\">7:37<span style=\"font-size: 0.8em; font-weight: bold; line-height: 1; border-radius: 0.35em; text-transform: uppercase; vertical-align: middle; margin-left: 0.5rem\">CARDINAL</span></mark> left in the <mark class=\"entity\" style=\"background: #e4e7d2; padding: 0.45em 0.6em; margin: 0 0.25em; line-height: 1; border-radius: 0.35em; box-decoration-break: clone; -webkit-box-decoration-break: clone\">third<span style=\"font-size: 0.8em; font-weight: bold; line-height: 1; border-radius: 0.35em; text-transform: uppercase; vertical-align: middle; margin-left: 0.5rem\">ORDINAL</span></mark> period. Fans hugged strangers. Fans high-fived police officers. Cab drivers stopped in the middle of the street to take pictures. Fans stopped in the middle of the street to scream. <mark class=\"entity\" style=\"background: #e4e7d2; padding: 0.45em 0.6em; margin: 0 0.25em; line-height: 1; border-radius: 0.35em; box-decoration-break: clone; -webkit-box-decoration-break: clone\">One<span style=\"font-size: 0.8em; font-weight: bold; line-height: 1; border-radius: 0.35em; text-transform: uppercase; vertical-align: middle; margin-left: 0.5rem\">CARDINAL</span></mark> fan got his head bandaged by paramedics and then went back into the swarm. The scene was mayhem, the soundtrack of horns everywhere, honking in rhythm.Fans erupted in joy after watching the Capitals win their very <mark class=\"entity\" style=\"background: #e4e7d2; padding: 0.45em 0.6em; margin: 0 0.25em; line-height: 1; border-radius: 0.35em; box-decoration-break: clone; -webkit-box-decoration-break: clone\">first<span style=\"font-size: 0.8em; font-weight: bold; line-height: 1; border-radius: 0.35em; text-transform: uppercase; vertical-align: middle; margin-left: 0.5rem\">ORDINAL</span></mark> <mark class=\"entity\" style=\"background: #ffeb80; padding: 0.45em 0.6em; margin: 0 0.25em; line-height: 1; border-radius: 0.35em; box-decoration-break: clone; -webkit-box-decoration-break: clone\">Stanley Cup<span style=\"font-size: 0.8em; font-weight: bold; line-height: 1; border-radius: 0.35em; text-transform: uppercase; vertical-align: middle; margin-left: 0.5rem\">EVENT</span></mark> outside the Capital <mark class=\"entity\" style=\"background: #e4e7d2; padding: 0.45em 0.6em; margin: 0 0.25em; line-height: 1; border-radius: 0.35em; box-decoration-break: clone; -webkit-box-decoration-break: clone\">One<span style=\"font-size: 0.8em; font-weight: bold; line-height: 1; border-radius: 0.35em; text-transform: uppercase; vertical-align: middle; margin-left: 0.5rem\">CARDINAL</span></mark> Arena. (<mark class=\"entity\" style=\"background: #aa9cfc; padding: 0.45em 0.6em; margin: 0 0.25em; line-height: 1; border-radius: 0.35em; box-decoration-break: clone; -webkit-box-decoration-break: clone\">Michael Robinson Chavez<span style=\"font-size: 0.8em; font-weight: bold; line-height: 1; border-radius: 0.35em; text-transform: uppercase; vertical-align: middle; margin-left: 0.5rem\">PERSON</span></mark>/<mark class=\"entity\" style=\"background: #7aecec; padding: 0.45em 0.6em; margin: 0 0.25em; line-height: 1; border-radius: 0.35em; box-decoration-break: clone; -webkit-box-decoration-break: clone\">The Washington Post<span style=\"font-size: 0.8em; font-weight: bold; line-height: 1; border-radius: 0.35em; text-transform: uppercase; vertical-align: middle; margin-left: 0.5rem\">ORG</span></mark>)  [Capitals win <mark class=\"entity\" style=\"background: #e4e7d2; padding: 0.45em 0.6em; margin: 0 0.25em; line-height: 1; border-radius: 0.35em; box-decoration-break: clone; -webkit-box-decoration-break: clone\">first<span style=\"font-size: 0.8em; font-weight: bold; line-height: 1; border-radius: 0.35em; text-transform: uppercase; vertical-align: middle; margin-left: 0.5rem\">ORDINAL</span></mark> <mark class=\"entity\" style=\"background: #ffeb80; padding: 0.45em 0.6em; margin: 0 0.25em; line-height: 1; border-radius: 0.35em; box-decoration-break: clone; -webkit-box-decoration-break: clone\">Stanley Cup<span style=\"font-size: 0.8em; font-weight: bold; line-height: 1; border-radius: 0.35em; text-transform: uppercase; vertical-align: middle; margin-left: 0.5rem\">EVENT</span></mark> championship] Dwain Watts, <mark class=\"entity\" style=\"background: #bfe1d9; padding: 0.45em 0.6em; margin: 0 0.25em; line-height: 1; border-radius: 0.35em; box-decoration-break: clone; -webkit-box-decoration-break: clone\">34<span style=\"font-size: 0.8em; font-weight: bold; line-height: 1; border-radius: 0.35em; text-transform: uppercase; vertical-align: middle; margin-left: 0.5rem\">DATE</span></mark>, was at <mark class=\"entity\" style=\"background: #7aecec; padding: 0.45em 0.6em; margin: 0 0.25em; line-height: 1; border-radius: 0.35em; box-decoration-break: clone; -webkit-box-decoration-break: clone\">the National Portrait Gallery<span style=\"font-size: 0.8em; font-weight: bold; line-height: 1; border-radius: 0.35em; text-transform: uppercase; vertical-align: middle; margin-left: 0.5rem\">ORG</span></mark> steps not long after midnight, holding up a copy of <mark class=\"entity\" style=\"background: #7aecec; padding: 0.45em 0.6em; margin: 0 0.25em; line-height: 1; border-radius: 0.35em; box-decoration-break: clone; -webkit-box-decoration-break: clone\">The Washington Post’s<span style=\"font-size: 0.8em; font-weight: bold; line-height: 1; border-radius: 0.35em; text-transform: uppercase; vertical-align: middle; margin-left: 0.5rem\">ORG</span></mark> street edition. He was just a kid the last time the <mark class=\"entity\" style=\"background: #aa9cfc; padding: 0.45em 0.6em; margin: 0 0.25em; line-height: 1; border-radius: 0.35em; box-decoration-break: clone; -webkit-box-decoration-break: clone\">Caps<span style=\"font-size: 0.8em; font-weight: bold; line-height: 1; border-radius: 0.35em; text-transform: uppercase; vertical-align: middle; margin-left: 0.5rem\">PERSON</span></mark> went to the finals, and said this felt like redemption. When asked what he thought this meant for the city, he replied: “Everything.” “Look at it,” he said. “Look at it!” His friend, <mark class=\"entity\" style=\"background: #aa9cfc; padding: 0.45em 0.6em; margin: 0 0.25em; line-height: 1; border-radius: 0.35em; box-decoration-break: clone; -webkit-box-decoration-break: clone\">Aaris Johnson<span style=\"font-size: 0.8em; font-weight: bold; line-height: 1; border-radius: 0.35em; text-transform: uppercase; vertical-align: middle; margin-left: 0.5rem\">PERSON</span></mark>, said the win left him in tears. He was already planning a trip to a tattoo shop to commemorate it. “I’m so happy right now,” <mark class=\"entity\" style=\"background: #aa9cfc; padding: 0.45em 0.6em; margin: 0 0.25em; line-height: 1; border-radius: 0.35em; box-decoration-break: clone; -webkit-box-decoration-break: clone\">Johnson<span style=\"font-size: 0.8em; font-weight: bold; line-height: 1; border-radius: 0.35em; text-transform: uppercase; vertical-align: middle; margin-left: 0.5rem\">PERSON</span></mark> said. “I can’t believe this is happening.” “D.C. is alive,” said <mark class=\"entity\" style=\"background: #aa9cfc; padding: 0.45em 0.6em; margin: 0 0.25em; line-height: 1; border-radius: 0.35em; box-decoration-break: clone; -webkit-box-decoration-break: clone\">Zack Vinson<span style=\"font-size: 0.8em; font-weight: bold; line-height: 1; border-radius: 0.35em; text-transform: uppercase; vertical-align: middle; margin-left: 0.5rem\">PERSON</span></mark>, <mark class=\"entity\" style=\"background: #bfe1d9; padding: 0.45em 0.6em; margin: 0 0.25em; line-height: 1; border-radius: 0.35em; box-decoration-break: clone; -webkit-box-decoration-break: clone\">29<span style=\"font-size: 0.8em; font-weight: bold; line-height: 1; border-radius: 0.35em; text-transform: uppercase; vertical-align: middle; margin-left: 0.5rem\">DATE</span></mark>, of <mark class=\"entity\" style=\"background: #7aecec; padding: 0.45em 0.6em; margin: 0 0.25em; line-height: 1; border-radius: 0.35em; box-decoration-break: clone; -webkit-box-decoration-break: clone\">Ashburn<span style=\"font-size: 0.8em; font-weight: bold; line-height: 1; border-radius: 0.35em; text-transform: uppercase; vertical-align: middle; margin-left: 0.5rem\">ORG</span></mark>. “Unlike anything I’ve ever seen before,” said <mark class=\"entity\" style=\"background: #aa9cfc; padding: 0.45em 0.6em; margin: 0 0.25em; line-height: 1; border-radius: 0.35em; box-decoration-break: clone; -webkit-box-decoration-break: clone\">Mark Creamer<span style=\"font-size: 0.8em; font-weight: bold; line-height: 1; border-radius: 0.35em; text-transform: uppercase; vertical-align: middle; margin-left: 0.5rem\">PERSON</span></mark>, <mark class=\"entity\" style=\"background: #bfe1d9; padding: 0.45em 0.6em; margin: 0 0.25em; line-height: 1; border-radius: 0.35em; box-decoration-break: clone; -webkit-box-decoration-break: clone\">22<span style=\"font-size: 0.8em; font-weight: bold; line-height: 1; border-radius: 0.35em; text-transform: uppercase; vertical-align: middle; margin-left: 0.5rem\">DATE</span></mark>, of <mark class=\"entity\" style=\"background: #feca74; padding: 0.45em 0.6em; margin: 0 0.25em; line-height: 1; border-radius: 0.35em; box-decoration-break: clone; -webkit-box-decoration-break: clone\">Gaithersburg<span style=\"font-size: 0.8em; font-weight: bold; line-height: 1; border-radius: 0.35em; text-transform: uppercase; vertical-align: middle; margin-left: 0.5rem\">GPE</span></mark>. There were other large watch parties elsewhere in the city and in suburban outposts, too. But the epicenter was in Chinatown, where it felt (and smelled) like <mark class=\"entity\" style=\"background: #aa9cfc; padding: 0.45em 0.6em; margin: 0 0.25em; line-height: 1; border-radius: 0.35em; box-decoration-break: clone; -webkit-box-decoration-break: clone\">Mardi Gras<span style=\"font-size: 0.8em; font-weight: bold; line-height: 1; border-radius: 0.35em; text-transform: uppercase; vertical-align: middle; margin-left: 0.5rem\">PERSON</span></mark> during the biggest party of these playoffs. There were long lines to gain entry to every restaurant and bar in the neighborhood, and those who didn’t want to wait for a table lined up at <mark class=\"entity\" style=\"background: #bfeeb7; padding: 0.45em 0.6em; margin: 0 0.25em; line-height: 1; border-radius: 0.35em; box-decoration-break: clone; -webkit-box-decoration-break: clone\">Walgreens<span style=\"font-size: 0.8em; font-weight: bold; line-height: 1; border-radius: 0.35em; text-transform: uppercase; vertical-align: middle; margin-left: 0.5rem\">PRODUCT</span></mark> and drank openly in the street. Fans stood on trash cans and bus stop benches to get the best possible views of the screens. Crowds kept streaming into the area long after the game started, and officials closed a portion of <mark class=\"entity\" style=\"background: #ddd; padding: 0.45em 0.6em; margin: 0 0.25em; line-height: 1; border-radius: 0.35em; box-decoration-break: clone; -webkit-box-decoration-break: clone\">Ninth Street<span style=\"font-size: 0.8em; font-weight: bold; line-height: 1; border-radius: 0.35em; text-transform: uppercase; vertical-align: middle; margin-left: 0.5rem\">FAC</span></mark> that had previously been open to traffic during the <mark class=\"entity\" style=\"background: #e4e7d2; padding: 0.45em 0.6em; margin: 0 0.25em; line-height: 1; border-radius: 0.35em; box-decoration-break: clone; -webkit-box-decoration-break: clone\">second<span style=\"font-size: 0.8em; font-weight: bold; line-height: 1; border-radius: 0.35em; text-transform: uppercase; vertical-align: middle; margin-left: 0.5rem\">ORDINAL</span></mark> period. The fans standing in that area couldn’t even see the game broadcast; they were packed in behind one of the giant screens. <mark class=\"entity\" style=\"background: #aa9cfc; padding: 0.45em 0.6em; margin: 0 0.25em; line-height: 1; border-radius: 0.35em; box-decoration-break: clone; -webkit-box-decoration-break: clone\">Calvin Gidney<span style=\"font-size: 0.8em; font-weight: bold; line-height: 1; border-radius: 0.35em; text-transform: uppercase; vertical-align: middle; margin-left: 0.5rem\">PERSON</span></mark>, <mark class=\"entity\" style=\"background: #e4e7d2; padding: 0.45em 0.6em; margin: 0 0.25em; line-height: 1; border-radius: 0.35em; box-decoration-break: clone; -webkit-box-decoration-break: clone\">13<span style=\"font-size: 0.8em; font-weight: bold; line-height: 1; border-radius: 0.35em; text-transform: uppercase; vertical-align: middle; margin-left: 0.5rem\">CARDINAL</span></mark>, stood near the front of the crowd, wearing a red shirt and a hockey helmet. He held a sign that read, “<mark class=\"entity\" style=\"background: #e4e7d2; padding: 0.45em 0.6em; margin: 0 0.25em; line-height: 1; border-radius: 0.35em; box-decoration-break: clone; -webkit-box-decoration-break: clone\">One<span style=\"font-size: 0.8em; font-weight: bold; line-height: 1; border-radius: 0.35em; text-transform: uppercase; vertical-align: middle; margin-left: 0.5rem\">CARDINAL</span></mark> More Win.” “I don’t know how to describe it,” he said when asked what a <mark class=\"entity\" style=\"background: #aa9cfc; padding: 0.45em 0.6em; margin: 0 0.25em; line-height: 1; border-radius: 0.35em; box-decoration-break: clone; -webkit-box-decoration-break: clone\">Caps<span style=\"font-size: 0.8em; font-weight: bold; line-height: 1; border-radius: 0.35em; text-transform: uppercase; vertical-align: middle; margin-left: 0.5rem\">PERSON</span></mark> win would mean. “Literally, like <mark class=\"entity\" style=\"background: #bfe1d9; padding: 0.45em 0.6em; margin: 0 0.25em; line-height: 1; border-radius: 0.35em; box-decoration-break: clone; -webkit-box-decoration-break: clone\">six months ago<span style=\"font-size: 0.8em; font-weight: bold; line-height: 1; border-radius: 0.35em; text-transform: uppercase; vertical-align: middle; margin-left: 0.5rem\">DATE</span></mark>, I had a dream about us making <mark class=\"entity\" style=\"background: #ffeb80; padding: 0.45em 0.6em; margin: 0 0.25em; line-height: 1; border-radius: 0.35em; box-decoration-break: clone; -webkit-box-decoration-break: clone\">the Cup<span style=\"font-size: 0.8em; font-weight: bold; line-height: 1; border-radius: 0.35em; text-transform: uppercase; vertical-align: middle; margin-left: 0.5rem\">EVENT</span></mark>. It’s just been a long time since <mark class=\"entity\" style=\"background: #feca74; padding: 0.45em 0.6em; margin: 0 0.25em; line-height: 1; border-radius: 0.35em; box-decoration-break: clone; -webkit-box-decoration-break: clone\">D.C.<span style=\"font-size: 0.8em; font-weight: bold; line-height: 1; border-radius: 0.35em; text-transform: uppercase; vertical-align: middle; margin-left: 0.5rem\">GPE</span></mark>’s had a championship.” That was part of it; none of <mark class=\"entity\" style=\"background: #feca74; padding: 0.45em 0.6em; margin: 0 0.25em; line-height: 1; border-radius: 0.35em; box-decoration-break: clone; -webkit-box-decoration-break: clone\">Washington<span style=\"font-size: 0.8em; font-weight: bold; line-height: 1; border-radius: 0.35em; text-transform: uppercase; vertical-align: middle; margin-left: 0.5rem\">GPE</span></mark>’s major pro sports teams had won a title since <mark class=\"entity\" style=\"background: #ffeb80; padding: 0.45em 0.6em; margin: 0 0.25em; line-height: 1; border-radius: 0.35em; box-decoration-break: clone; -webkit-box-decoration-break: clone\">the Redskins’ Super Bowl<span style=\"font-size: 0.8em; font-weight: bold; line-height: 1; border-radius: 0.35em; text-transform: uppercase; vertical-align: middle; margin-left: 0.5rem\">EVENT</span></mark> triumph in <mark class=\"entity\" style=\"background: #bfe1d9; padding: 0.45em 0.6em; margin: 0 0.25em; line-height: 1; border-radius: 0.35em; box-decoration-break: clone; -webkit-box-decoration-break: clone\">1992<span style=\"font-size: 0.8em; font-weight: bold; line-height: 1; border-radius: 0.35em; text-transform: uppercase; vertical-align: middle; margin-left: 0.5rem\">DATE</span></mark>. The weather played a part, too; it was mild and beautiful, with temperatures in <mark class=\"entity\" style=\"background: #bfe1d9; padding: 0.45em 0.6em; margin: 0 0.25em; line-height: 1; border-radius: 0.35em; box-decoration-break: clone; -webkit-box-decoration-break: clone\">the low 70s<span style=\"font-size: 0.8em; font-weight: bold; line-height: 1; border-radius: 0.35em; text-transform: uppercase; vertical-align: middle; margin-left: 0.5rem\">DATE</span></mark>. And so fans poured into the city: at <mark class=\"entity\" style=\"background: #ddd; padding: 0.45em 0.6em; margin: 0 0.25em; line-height: 1; border-radius: 0.35em; box-decoration-break: clone; -webkit-box-decoration-break: clone\">National Harbor<span style=\"font-size: 0.8em; font-weight: bold; line-height: 1; border-radius: 0.35em; text-transform: uppercase; vertical-align: middle; margin-left: 0.5rem\">FAC</span></mark> and the <mark class=\"entity\" style=\"background: #aa9cfc; padding: 0.45em 0.6em; margin: 0 0.25em; line-height: 1; border-radius: 0.35em; box-decoration-break: clone; -webkit-box-decoration-break: clone\">Bullpen<span style=\"font-size: 0.8em; font-weight: bold; line-height: 1; border-radius: 0.35em; text-transform: uppercase; vertical-align: middle; margin-left: 0.5rem\">PERSON</span></mark> outside <mark class=\"entity\" style=\"background: #ddd; padding: 0.45em 0.6em; margin: 0 0.25em; line-height: 1; border-radius: 0.35em; box-decoration-break: clone; -webkit-box-decoration-break: clone\">Nationals Park<span style=\"font-size: 0.8em; font-weight: bold; line-height: 1; border-radius: 0.35em; text-transform: uppercase; vertical-align: middle; margin-left: 0.5rem\">FAC</span></mark>, at the <mark class=\"entity\" style=\"background: #7aecec; padding: 0.45em 0.6em; margin: 0 0.25em; line-height: 1; border-radius: 0.35em; box-decoration-break: clone; -webkit-box-decoration-break: clone\">Wharf<span style=\"font-size: 0.8em; font-weight: bold; line-height: 1; border-radius: 0.35em; text-transform: uppercase; vertical-align: middle; margin-left: 0.5rem\">ORG</span></mark> and <mark class=\"entity\" style=\"background: #7aecec; padding: 0.45em 0.6em; margin: 0 0.25em; line-height: 1; border-radius: 0.35em; box-decoration-break: clone; -webkit-box-decoration-break: clone\">the U.S. Navy Memorial<span style=\"font-size: 0.8em; font-weight: bold; line-height: 1; border-radius: 0.35em; text-transform: uppercase; vertical-align: middle; margin-left: 0.5rem\">ORG</span></mark>, at town centers in <mark class=\"entity\" style=\"background: #feca74; padding: 0.45em 0.6em; margin: 0 0.25em; line-height: 1; border-radius: 0.35em; box-decoration-break: clone; -webkit-box-decoration-break: clone\">Fairfax County<span style=\"font-size: 0.8em; font-weight: bold; line-height: 1; border-radius: 0.35em; text-transform: uppercase; vertical-align: middle; margin-left: 0.5rem\">GPE</span></mark> and <mark class=\"entity\" style=\"background: #feca74; padding: 0.45em 0.6em; margin: 0 0.25em; line-height: 1; border-radius: 0.35em; box-decoration-break: clone; -webkit-box-decoration-break: clone\">Montgomery County<span style=\"font-size: 0.8em; font-weight: bold; line-height: 1; border-radius: 0.35em; text-transform: uppercase; vertical-align: middle; margin-left: 0.5rem\">GPE</span></mark>, and inside every bar and restaurant within blocks of the arena. <mark class=\"entity\" style=\"background: #7aecec; padding: 0.45em 0.6em; margin: 0 0.25em; line-height: 1; border-radius: 0.35em; box-decoration-break: clone; -webkit-box-decoration-break: clone\">The Avalon Theatre<span style=\"font-size: 0.8em; font-weight: bold; line-height: 1; border-radius: 0.35em; text-transform: uppercase; vertical-align: middle; margin-left: 0.5rem\">ORG</span></mark> in <mark class=\"entity\" style=\"background: #feca74; padding: 0.45em 0.6em; margin: 0 0.25em; line-height: 1; border-radius: 0.35em; box-decoration-break: clone; -webkit-box-decoration-break: clone\">Northwest<span style=\"font-size: 0.8em; font-weight: bold; line-height: 1; border-radius: 0.35em; text-transform: uppercase; vertical-align: middle; margin-left: 0.5rem\">GPE</span></mark>, <mark class=\"entity\" style=\"background: #feca74; padding: 0.45em 0.6em; margin: 0 0.25em; line-height: 1; border-radius: 0.35em; box-decoration-break: clone; -webkit-box-decoration-break: clone\">Washington<span style=\"font-size: 0.8em; font-weight: bold; line-height: 1; border-radius: 0.35em; text-transform: uppercase; vertical-align: middle; margin-left: 0.5rem\">GPE</span></mark>’s oldest operating movie house, canceled a screening of <mark class=\"entity\" style=\"background: #7aecec; padding: 0.45em 0.6em; margin: 0 0.25em; line-height: 1; border-radius: 0.35em; box-decoration-break: clone; -webkit-box-decoration-break: clone\">“Book Club”<span style=\"font-size: 0.8em; font-weight: bold; line-height: 1; border-radius: 0.35em; text-transform: uppercase; vertical-align: middle; margin-left: 0.5rem\">ORG</span></mark> so staffers could watch the game. Friars wore <mark class=\"entity\" style=\"background: #aa9cfc; padding: 0.45em 0.6em; margin: 0 0.25em; line-height: 1; border-radius: 0.35em; box-decoration-break: clone; -webkit-box-decoration-break: clone\">Caps<span style=\"font-size: 0.8em; font-weight: bold; line-height: 1; border-radius: 0.35em; text-transform: uppercase; vertical-align: middle; margin-left: 0.5rem\">PERSON</span></mark> jerseys at <mark class=\"entity\" style=\"background: #7aecec; padding: 0.45em 0.6em; margin: 0 0.25em; line-height: 1; border-radius: 0.35em; box-decoration-break: clone; -webkit-box-decoration-break: clone\">the Franciscan Monastery<span style=\"font-size: 0.8em; font-weight: bold; line-height: 1; border-radius: 0.35em; text-transform: uppercase; vertical-align: middle; margin-left: 0.5rem\">ORG</span></mark> in <mark class=\"entity\" style=\"background: #ff9561; padding: 0.45em 0.6em; margin: 0 0.25em; line-height: 1; border-radius: 0.35em; box-decoration-break: clone; -webkit-box-decoration-break: clone\">Northeast<span style=\"font-size: 0.8em; font-weight: bold; line-height: 1; border-radius: 0.35em; text-transform: uppercase; vertical-align: middle; margin-left: 0.5rem\">LOC</span></mark>. WMATA buses carried the message “GO <mark class=\"entity\" style=\"background: #7aecec; padding: 0.45em 0.6em; margin: 0 0.25em; line-height: 1; border-radius: 0.35em; box-decoration-break: clone; -webkit-box-decoration-break: clone\">CAPS<span style=\"font-size: 0.8em; font-weight: bold; line-height: 1; border-radius: 0.35em; text-transform: uppercase; vertical-align: middle; margin-left: 0.5rem\">ORG</span></mark>!” and schoolteachers wrote about the game on their whiteboards. It’s not exaggeration to say there had never been <mark class=\"entity\" style=\"background: #bfe1d9; padding: 0.45em 0.6em; margin: 0 0.25em; line-height: 1; border-radius: 0.35em; box-decoration-break: clone; -webkit-box-decoration-break: clone\">a night<span style=\"font-size: 0.8em; font-weight: bold; line-height: 1; border-radius: 0.35em; text-transform: uppercase; vertical-align: middle; margin-left: 0.5rem\">TIME</span></mark> quite like this in <mark class=\"entity\" style=\"background: #ff9561; padding: 0.45em 0.6em; margin: 0 0.25em; line-height: 1; border-radius: 0.35em; box-decoration-break: clone; -webkit-box-decoration-break: clone\">the District<span style=\"font-size: 0.8em; font-weight: bold; line-height: 1; border-radius: 0.35em; text-transform: uppercase; vertical-align: middle; margin-left: 0.5rem\">LOC</span></mark>. When the <mark class=\"entity\" style=\"background: #7aecec; padding: 0.45em 0.6em; margin: 0 0.25em; line-height: 1; border-radius: 0.35em; box-decoration-break: clone; -webkit-box-decoration-break: clone\">Bullets<span style=\"font-size: 0.8em; font-weight: bold; line-height: 1; border-radius: 0.35em; text-transform: uppercase; vertical-align: middle; margin-left: 0.5rem\">ORG</span></mark> won a championship <mark class=\"entity\" style=\"background: #bfe1d9; padding: 0.45em 0.6em; margin: 0 0.25em; line-height: 1; border-radius: 0.35em; box-decoration-break: clone; -webkit-box-decoration-break: clone\">40 years ago<span style=\"font-size: 0.8em; font-weight: bold; line-height: 1; border-radius: 0.35em; text-transform: uppercase; vertical-align: middle; margin-left: 0.5rem\">DATE</span></mark>, the team was based in <mark class=\"entity\" style=\"background: #feca74; padding: 0.45em 0.6em; margin: 0 0.25em; line-height: 1; border-radius: 0.35em; box-decoration-break: clone; -webkit-box-decoration-break: clone\">Maryland<span style=\"font-size: 0.8em; font-weight: bold; line-height: 1; border-radius: 0.35em; text-transform: uppercase; vertical-align: middle; margin-left: 0.5rem\">GPE</span></mark>. When the Redskins were winning <mark class=\"entity\" style=\"background: #7aecec; padding: 0.45em 0.6em; margin: 0 0.25em; line-height: 1; border-radius: 0.35em; box-decoration-break: clone; -webkit-box-decoration-break: clone\">Super Bowls<span style=\"font-size: 0.8em; font-weight: bold; line-height: 1; border-radius: 0.35em; text-transform: uppercase; vertical-align: middle; margin-left: 0.5rem\">ORG</span></mark>, Chinatown was a far different neighborhood, and the <mark class=\"entity\" style=\"background: #feca74; padding: 0.45em 0.6em; margin: 0 0.25em; line-height: 1; border-radius: 0.35em; box-decoration-break: clone; -webkit-box-decoration-break: clone\">Washington<span style=\"font-size: 0.8em; font-weight: bold; line-height: 1; border-radius: 0.35em; text-transform: uppercase; vertical-align: middle; margin-left: 0.5rem\">GPE</span></mark> area a far different region. And so even casual sports fans had to be a part of this. There were those who came in work clothes simply to check out the wild scene, and others who just wanted to see what the hype was about. <mark class=\"entity\" style=\"background: #aa9cfc; padding: 0.45em 0.6em; margin: 0 0.25em; line-height: 1; border-radius: 0.35em; box-decoration-break: clone; -webkit-box-decoration-break: clone\">Eyerusalem Gebremeskel<span style=\"font-size: 0.8em; font-weight: bold; line-height: 1; border-radius: 0.35em; text-transform: uppercase; vertical-align: middle; margin-left: 0.5rem\">PERSON</span></mark>, <mark class=\"entity\" style=\"background: #bfe1d9; padding: 0.45em 0.6em; margin: 0 0.25em; line-height: 1; border-radius: 0.35em; box-decoration-break: clone; -webkit-box-decoration-break: clone\">21<span style=\"font-size: 0.8em; font-weight: bold; line-height: 1; border-radius: 0.35em; text-transform: uppercase; vertical-align: middle; margin-left: 0.5rem\">DATE</span></mark>, was one of those fans not decked out in red. The <mark class=\"entity\" style=\"background: #feca74; padding: 0.45em 0.6em; margin: 0 0.25em; line-height: 1; border-radius: 0.35em; box-decoration-break: clone; -webkit-box-decoration-break: clone\">Silver Spring<span style=\"font-size: 0.8em; font-weight: bold; line-height: 1; border-radius: 0.35em; text-transform: uppercase; vertical-align: middle; margin-left: 0.5rem\">GPE</span></mark> native isn’t a big hockey fan, but a group of friends she knew from high school at <mark class=\"entity\" style=\"background: #feca74; padding: 0.45em 0.6em; margin: 0 0.25em; line-height: 1; border-radius: 0.35em; box-decoration-break: clone; -webkit-box-decoration-break: clone\">St. John’s<span style=\"font-size: 0.8em; font-weight: bold; line-height: 1; border-radius: 0.35em; text-transform: uppercase; vertical-align: middle; margin-left: 0.5rem\">GPE</span></mark> in <mark class=\"entity\" style=\"background: #7aecec; padding: 0.45em 0.6em; margin: 0 0.25em; line-height: 1; border-radius: 0.35em; box-decoration-break: clone; -webkit-box-decoration-break: clone\">Northwest<span style=\"font-size: 0.8em; font-weight: bold; line-height: 1; border-radius: 0.35em; text-transform: uppercase; vertical-align: middle; margin-left: 0.5rem\">ORG</span></mark> wanted to come down and watch, and she didn’t want to miss out. “Even though I’m not a big sports fan and I don’t know much about hockey, it just felt like if you’re from the <mark class=\"entity\" style=\"background: #feca74; padding: 0.45em 0.6em; margin: 0 0.25em; line-height: 1; border-radius: 0.35em; box-decoration-break: clone; -webkit-box-decoration-break: clone\">D.C.<span style=\"font-size: 0.8em; font-weight: bold; line-height: 1; border-radius: 0.35em; text-transform: uppercase; vertical-align: middle; margin-left: 0.5rem\">GPE</span></mark> area, this was the thing you couldn’t miss,” she said. “It’s like a party down here. There are so many different groups of people walking around, watching. It’s really powerful to see that sports can do that.” “It’s beautiful,” said <mark class=\"entity\" style=\"background: #aa9cfc; padding: 0.45em 0.6em; margin: 0 0.25em; line-height: 1; border-radius: 0.35em; box-decoration-break: clone; -webkit-box-decoration-break: clone\">Bobby Parrish<span style=\"font-size: 0.8em; font-weight: bold; line-height: 1; border-radius: 0.35em; text-transform: uppercase; vertical-align: middle; margin-left: 0.5rem\">PERSON</span></mark> of <mark class=\"entity\" style=\"background: #feca74; padding: 0.45em 0.6em; margin: 0 0.25em; line-height: 1; border-radius: 0.35em; box-decoration-break: clone; -webkit-box-decoration-break: clone\">Virginia<span style=\"font-size: 0.8em; font-weight: bold; line-height: 1; border-radius: 0.35em; text-transform: uppercase; vertical-align: middle; margin-left: 0.5rem\">GPE</span></mark>, an hour from his <mark class=\"entity\" style=\"background: #e4e7d2; padding: 0.45em 0.6em; margin: 0 0.25em; line-height: 1; border-radius: 0.35em; box-decoration-break: clone; -webkit-box-decoration-break: clone\">30th<span style=\"font-size: 0.8em; font-weight: bold; line-height: 1; border-radius: 0.35em; text-transform: uppercase; vertical-align: middle; margin-left: 0.5rem\">ORDINAL</span></mark> birthday. “This is incredible. I mean, I’ve grown up being disappointed and yet I still come back. Sometimes I don’t know why. Until it finally happens. It’s why you wasted so many years supporting this team. I mean, it’s so rewarding.” After the win, <mark class=\"entity\" style=\"background: #aa9cfc; padding: 0.45em 0.6em; margin: 0 0.25em; line-height: 1; border-radius: 0.35em; box-decoration-break: clone; -webkit-box-decoration-break: clone\">Liam Rucker<span style=\"font-size: 0.8em; font-weight: bold; line-height: 1; border-radius: 0.35em; text-transform: uppercase; vertical-align: middle; margin-left: 0.5rem\">PERSON</span></mark>, <mark class=\"entity\" style=\"background: #bfe1d9; padding: 0.45em 0.6em; margin: 0 0.25em; line-height: 1; border-radius: 0.35em; box-decoration-break: clone; -webkit-box-decoration-break: clone\">22<span style=\"font-size: 0.8em; font-weight: bold; line-height: 1; border-radius: 0.35em; text-transform: uppercase; vertical-align: middle; margin-left: 0.5rem\">DATE</span></mark>, stood in the crowd not far from the <mark class=\"entity\" style=\"background: #7aecec; padding: 0.45em 0.6em; margin: 0 0.25em; line-height: 1; border-radius: 0.35em; box-decoration-break: clone; -webkit-box-decoration-break: clone\">Portrait Gallery<span style=\"font-size: 0.8em; font-weight: bold; line-height: 1; border-radius: 0.35em; text-transform: uppercase; vertical-align: middle; margin-left: 0.5rem\">ORG</span></mark> steps, and said he was in “disbelief.” This was something he never thought would happen for this team, he said. “I still don’t,” he said. “I can’t believe this happened.” “There was that familiar <mark class=\"entity\" style=\"background: #feca74; padding: 0.45em 0.6em; margin: 0 0.25em; line-height: 1; border-radius: 0.35em; box-decoration-break: clone; -webkit-box-decoration-break: clone\">Washington<span style=\"font-size: 0.8em; font-weight: bold; line-height: 1; border-radius: 0.35em; text-transform: uppercase; vertical-align: middle; margin-left: 0.5rem\">GPE</span></mark> doubt, but not this series,” said <mark class=\"entity\" style=\"background: #aa9cfc; padding: 0.45em 0.6em; margin: 0 0.25em; line-height: 1; border-radius: 0.35em; box-decoration-break: clone; -webkit-box-decoration-break: clone\">Patrick Amerena<span style=\"font-size: 0.8em; font-weight: bold; line-height: 1; border-radius: 0.35em; text-transform: uppercase; vertical-align: middle; margin-left: 0.5rem\">PERSON</span></mark> of <mark class=\"entity\" style=\"background: #feca74; padding: 0.45em 0.6em; margin: 0 0.25em; line-height: 1; border-radius: 0.35em; box-decoration-break: clone; -webkit-box-decoration-break: clone\">Frederick<span style=\"font-size: 0.8em; font-weight: bold; line-height: 1; border-radius: 0.35em; text-transform: uppercase; vertical-align: middle; margin-left: 0.5rem\">GPE</span></mark>. “We just had a feeling about this time that we’d close it out.” “The demons are gone.” Travis Tuthill, a <mark class=\"entity\" style=\"background: #bfe1d9; padding: 0.45em 0.6em; margin: 0 0.25em; line-height: 1; border-radius: 0.35em; box-decoration-break: clone; -webkit-box-decoration-break: clone\">20-year-old<span style=\"font-size: 0.8em; font-weight: bold; line-height: 1; border-radius: 0.35em; text-transform: uppercase; vertical-align: middle; margin-left: 0.5rem\">DATE</span></mark> <mark class=\"entity\" style=\"background: #aa9cfc; padding: 0.45em 0.6em; margin: 0 0.25em; line-height: 1; border-radius: 0.35em; box-decoration-break: clone; -webkit-box-decoration-break: clone\">Caps<span style=\"font-size: 0.8em; font-weight: bold; line-height: 1; border-radius: 0.35em; text-transform: uppercase; vertical-align: middle; margin-left: 0.5rem\">PERSON</span></mark> fan from <mark class=\"entity\" style=\"background: #feca74; padding: 0.45em 0.6em; margin: 0 0.25em; line-height: 1; border-radius: 0.35em; box-decoration-break: clone; -webkit-box-decoration-break: clone\">New Jersey<span style=\"font-size: 0.8em; font-weight: bold; line-height: 1; border-radius: 0.35em; text-transform: uppercase; vertical-align: middle; margin-left: 0.5rem\">GPE</span></mark>, stood outside <mark class=\"entity\" style=\"background: #7aecec; padding: 0.45em 0.6em; margin: 0 0.25em; line-height: 1; border-radius: 0.35em; box-decoration-break: clone; -webkit-box-decoration-break: clone\">Capital One Arena<span style=\"font-size: 0.8em; font-weight: bold; line-height: 1; border-radius: 0.35em; text-transform: uppercase; vertical-align: middle; margin-left: 0.5rem\">ORG</span></mark> at <mark class=\"entity\" style=\"background: #bfe1d9; padding: 0.45em 0.6em; margin: 0 0.25em; line-height: 1; border-radius: 0.35em; box-decoration-break: clone; -webkit-box-decoration-break: clone\">around midnight<span style=\"font-size: 0.8em; font-weight: bold; line-height: 1; border-radius: 0.35em; text-transform: uppercase; vertical-align: middle; margin-left: 0.5rem\">TIME</span></mark>, holding a sign that said, “<mark class=\"entity\" style=\"background: #f0d0ff; padding: 0.45em 0.6em; margin: 0 0.25em; line-height: 1; border-radius: 0.35em; box-decoration-break: clone; -webkit-box-decoration-break: clone\">Worth the Wait<span style=\"font-size: 0.8em; font-weight: bold; line-height: 1; border-radius: 0.35em; text-transform: uppercase; vertical-align: middle; margin-left: 0.5rem\">WORK_OF_ART</span></mark>.” “What happened <mark class=\"entity\" style=\"background: #bfe1d9; padding: 0.45em 0.6em; margin: 0 0.25em; line-height: 1; border-radius: 0.35em; box-decoration-break: clone; -webkit-box-decoration-break: clone\">last year<span style=\"font-size: 0.8em; font-weight: bold; line-height: 1; border-radius: 0.35em; text-transform: uppercase; vertical-align: middle; margin-left: 0.5rem\">DATE</span></mark>, against the <mark class=\"entity\" style=\"background: #7aecec; padding: 0.45em 0.6em; margin: 0 0.25em; line-height: 1; border-radius: 0.35em; box-decoration-break: clone; -webkit-box-decoration-break: clone\">Penguins<span style=\"font-size: 0.8em; font-weight: bold; line-height: 1; border-radius: 0.35em; text-transform: uppercase; vertical-align: middle; margin-left: 0.5rem\">ORG</span></mark>, I swear, I thought, I genuinely thought, I would never, ever see this happen in my life,” he said. So was it worth the wait? “Oh my God,” he said. “Absolutely.” <mark class=\"entity\" style=\"background: #aa9cfc; padding: 0.45em 0.6em; margin: 0 0.25em; line-height: 1; border-radius: 0.35em; box-decoration-break: clone; -webkit-box-decoration-break: clone\">Wes Johnson<span style=\"font-size: 0.8em; font-weight: bold; line-height: 1; border-radius: 0.35em; text-transform: uppercase; vertical-align: middle; margin-left: 0.5rem\">PERSON</span></mark>: ‘Let’s have a party’ Event staff stood over boxes stacked chest high in <mark class=\"entity\" style=\"background: #bfe1d9; padding: 0.45em 0.6em; margin: 0 0.25em; line-height: 1; border-radius: 0.35em; box-decoration-break: clone; -webkit-box-decoration-break: clone\">the first row<span style=\"font-size: 0.8em; font-weight: bold; line-height: 1; border-radius: 0.35em; text-transform: uppercase; vertical-align: middle; margin-left: 0.5rem\">DATE</span></mark> of bleachers over the boards in the corner. Inside were hats and T-shirts, the same ones Capitals players wore on the ice at T-Mobile Arena. They were selling fast. Among the buyers: <mark class=\"entity\" style=\"background: #aa9cfc; padding: 0.45em 0.6em; margin: 0 0.25em; line-height: 1; border-radius: 0.35em; box-decoration-break: clone; -webkit-box-decoration-break: clone\">Wes Johnson<span style=\"font-size: 0.8em; font-weight: bold; line-height: 1; border-radius: 0.35em; text-transform: uppercase; vertical-align: middle; margin-left: 0.5rem\">PERSON</span></mark>, the public address announcer famous for unleashing the fury. As the clock rolled <mark class=\"entity\" style=\"background: #bfe1d9; padding: 0.45em 0.6em; margin: 0 0.25em; line-height: 1; border-radius: 0.35em; box-decoration-break: clone; -webkit-box-decoration-break: clone\">past midnight<span style=\"font-size: 0.8em; font-weight: bold; line-height: 1; border-radius: 0.35em; text-transform: uppercase; vertical-align: middle; margin-left: 0.5rem\">TIME</span></mark>, there was no fire left in his belly, he said. He was a teddy bear of handshakes and hugs. “We did it,” co-workers said again and again and again, which kept him on the verge of tears. “When the fans stormed the court, I said, ‘No, get <mark class=\"entity\" style=\"background: #feca74; padding: 0.45em 0.6em; margin: 0 0.25em; line-height: 1; border-radius: 0.35em; box-decoration-break: clone; -webkit-box-decoration-break: clone\">back.’<span style=\"font-size: 0.8em; font-weight: bold; line-height: 1; border-radius: 0.35em; text-transform: uppercase; vertical-align: middle; margin-left: 0.5rem\">GPE</span></mark> But why bother?” he said. “Let’s have a party.” <mark class=\"entity\" style=\"background: #aa9cfc; padding: 0.45em 0.6em; margin: 0 0.25em; line-height: 1; border-radius: 0.35em; box-decoration-break: clone; -webkit-box-decoration-break: clone\">Johnson<span style=\"font-size: 0.8em; font-weight: bold; line-height: 1; border-radius: 0.35em; text-transform: uppercase; vertical-align: middle; margin-left: 0.5rem\">PERSON</span></mark> took over Capitals public address duties <mark class=\"entity\" style=\"background: #bfe1d9; padding: 0.45em 0.6em; margin: 0 0.25em; line-height: 1; border-radius: 0.35em; box-decoration-break: clone; -webkit-box-decoration-break: clone\">18 years ago<span style=\"font-size: 0.8em; font-weight: bold; line-height: 1; border-radius: 0.35em; text-transform: uppercase; vertical-align: middle; margin-left: 0.5rem\">DATE</span></mark>, and <mark class=\"entity\" style=\"background: #bfe1d9; padding: 0.45em 0.6em; margin: 0 0.25em; line-height: 1; border-radius: 0.35em; box-decoration-break: clone; -webkit-box-decoration-break: clone\">each year<span style=\"font-size: 0.8em; font-weight: bold; line-height: 1; border-radius: 0.35em; text-transform: uppercase; vertical-align: middle; margin-left: 0.5rem\">DATE</span></mark>, the team was felled by some demon that felt familiar: the <mark class=\"entity\" style=\"background: #7aecec; padding: 0.45em 0.6em; margin: 0 0.25em; line-height: 1; border-radius: 0.35em; box-decoration-break: clone; -webkit-box-decoration-break: clone\">Penguins<span style=\"font-size: 0.8em; font-weight: bold; line-height: 1; border-radius: 0.35em; text-transform: uppercase; vertical-align: middle; margin-left: 0.5rem\">ORG</span></mark>, the <mark class=\"entity\" style=\"background: #7aecec; padding: 0.45em 0.6em; margin: 0 0.25em; line-height: 1; border-radius: 0.35em; box-decoration-break: clone; -webkit-box-decoration-break: clone\">Rangers<span style=\"font-size: 0.8em; font-weight: bold; line-height: 1; border-radius: 0.35em; text-transform: uppercase; vertical-align: middle; margin-left: 0.5rem\">ORG</span></mark>, a stupid penalty, a shot off the post, bad puck luck. “<mark class=\"entity\" style=\"background: #bfe1d9; padding: 0.45em 0.6em; margin: 0 0.25em; line-height: 1; border-radius: 0.35em; box-decoration-break: clone; -webkit-box-decoration-break: clone\">Tonight<span style=\"font-size: 0.8em; font-weight: bold; line-height: 1; border-radius: 0.35em; text-transform: uppercase; vertical-align: middle; margin-left: 0.5rem\">TIME</span></mark> they weathered the adversity,” he said. “They fought back, and they got a scrappy win. “I don’t even know how to feel,” he continued. “I laughed, I cried. I mean, everything. To look up there and be able to see Ovechkin lift that trophy, that makes me emotional.” Don’t go to the airport, fans From <mark class=\"entity\" style=\"background: #7aecec; padding: 0.45em 0.6em; margin: 0 0.25em; line-height: 1; border-radius: 0.35em; box-decoration-break: clone; -webkit-box-decoration-break: clone\">Metropolitan Washington Airport Authority<span style=\"font-size: 0.8em; font-weight: bold; line-height: 1; border-radius: 0.35em; text-transform: uppercase; vertical-align: middle; margin-left: 0.5rem\">ORG</span></mark>: “The Caps are <mark class=\"entity\" style=\"background: #ffeb80; padding: 0.45em 0.6em; margin: 0 0.25em; line-height: 1; border-radius: 0.35em; box-decoration-break: clone; -webkit-box-decoration-break: clone\">Stanley Cup Champions<span style=\"font-size: 0.8em; font-weight: bold; line-height: 1; border-radius: 0.35em; text-transform: uppercase; vertical-align: middle; margin-left: 0.5rem\">EVENT</span></mark>! Please do not come to the airport to greet the team. There will not be public events at the airport & fans who arrive will be turned away by police. The @Capitals are working on a victory celebration for everyone. Thank you and GO CAPS!!!” The streets go quiet Around 1 o’clock, street sweepers hummed around the corner of the city block police cordoned off for fans. Bars began letting out, and the <mark class=\"entity\" style=\"background: #ddd; padding: 0.45em 0.6em; margin: 0 0.25em; line-height: 1; border-radius: 0.35em; box-decoration-break: clone; -webkit-box-decoration-break: clone\">Metro<span style=\"font-size: 0.8em; font-weight: bold; line-height: 1; border-radius: 0.35em; text-transform: uppercase; vertical-align: middle; margin-left: 0.5rem\">FAC</span></mark> — with its service <mark class=\"entity\" style=\"background: #bfe1d9; padding: 0.45em 0.6em; margin: 0 0.25em; line-height: 1; border-radius: 0.35em; box-decoration-break: clone; -webkit-box-decoration-break: clone\">hours<span style=\"font-size: 0.8em; font-weight: bold; line-height: 1; border-radius: 0.35em; text-transform: uppercase; vertical-align: middle; margin-left: 0.5rem\">TIME</span></mark> twice extended — closed for <mark class=\"entity\" style=\"background: #bfe1d9; padding: 0.45em 0.6em; margin: 0 0.25em; line-height: 1; border-radius: 0.35em; box-decoration-break: clone; -webkit-box-decoration-break: clone\">the night<span style=\"font-size: 0.8em; font-weight: bold; line-height: 1; border-radius: 0.35em; text-transform: uppercase; vertical-align: middle; margin-left: 0.5rem\">TIME</span></mark>. Left was a city strewn with the debris of revelers: newspapers, beer bottles, fast food wrappers and the occasional flip flop. By <mark class=\"entity\" style=\"background: #bfe1d9; padding: 0.45em 0.6em; margin: 0 0.25em; line-height: 1; border-radius: 0.35em; box-decoration-break: clone; -webkit-box-decoration-break: clone\">1:30, the night of the Capitals’ first<span style=\"font-size: 0.8em; font-weight: bold; line-height: 1; border-radius: 0.35em; text-transform: uppercase; vertical-align: middle; margin-left: 0.5rem\">TIME</span></mark> championship was complete. All that was missing was <mark class=\"entity\" style=\"background: #ffeb80; padding: 0.45em 0.6em; margin: 0 0.25em; line-height: 1; border-radius: 0.35em; box-decoration-break: clone; -webkit-box-decoration-break: clone\">the Stanley Cup<span style=\"font-size: 0.8em; font-weight: bold; line-height: 1; border-radius: 0.35em; text-transform: uppercase; vertical-align: middle; margin-left: 0.5rem\">EVENT</span></mark>, and the <mark class=\"entity\" style=\"background: #aa9cfc; padding: 0.45em 0.6em; margin: 0 0.25em; line-height: 1; border-radius: 0.35em; box-decoration-break: clone; -webkit-box-decoration-break: clone\">District<span style=\"font-size: 0.8em; font-weight: bold; line-height: 1; border-radius: 0.35em; text-transform: uppercase; vertical-align: middle; margin-left: 0.5rem\">PERSON</span></mark> was assured it was on the way. <mark class=\"entity\" style=\"background: #aa9cfc; padding: 0.45em 0.6em; margin: 0 0.25em; line-height: 1; border-radius: 0.35em; box-decoration-break: clone; -webkit-box-decoration-break: clone\">CELEBRATIONS Celebrities<span style=\"font-size: 0.8em; font-weight: bold; line-height: 1; border-radius: 0.35em; text-transform: uppercase; vertical-align: middle; margin-left: 0.5rem\">PERSON</span></mark> and former <mark class=\"entity\" style=\"background: #c887fb; padding: 0.45em 0.6em; margin: 0 0.25em; line-height: 1; border-radius: 0.35em; box-decoration-break: clone; -webkit-box-decoration-break: clone\">Caps<span style=\"font-size: 0.8em; font-weight: bold; line-height: 1; border-radius: 0.35em; text-transform: uppercase; vertical-align: middle; margin-left: 0.5rem\">NORP</span></mark> tweet congrats and celebrations <mark class=\"entity\" style=\"background: #feca74; padding: 0.45em 0.6em; margin: 0 0.25em; line-height: 1; border-radius: 0.35em; box-decoration-break: clone; -webkit-box-decoration-break: clone\">PREGAME<span style=\"font-size: 0.8em; font-weight: bold; line-height: 1; border-radius: 0.35em; text-transform: uppercase; vertical-align: middle; margin-left: 0.5rem\">GPE</span></mark>(<mark class=\"entity\" style=\"background: #aa9cfc; padding: 0.45em 0.6em; margin: 0 0.25em; line-height: 1; border-radius: 0.35em; box-decoration-break: clone; -webkit-box-decoration-break: clone\">Matt McClain<span style=\"font-size: 0.8em; font-weight: bold; line-height: 1; border-radius: 0.35em; text-transform: uppercase; vertical-align: middle; margin-left: 0.5rem\">PERSON</span></mark>/<mark class=\"entity\" style=\"background: #7aecec; padding: 0.45em 0.6em; margin: 0 0.25em; line-height: 1; border-radius: 0.35em; box-decoration-break: clone; -webkit-box-decoration-break: clone\">The Washington Post<span style=\"font-size: 0.8em; font-weight: bold; line-height: 1; border-radius: 0.35em; text-transform: uppercase; vertical-align: middle; margin-left: 0.5rem\">ORG</span></mark>) Capitals fans prepare to watch <mark class=\"entity\" style=\"background: #ff8197; padding: 0.45em 0.6em; margin: 0 0.25em; line-height: 1; border-radius: 0.35em; box-decoration-break: clone; -webkit-box-decoration-break: clone\">Game 5<span style=\"font-size: 0.8em; font-weight: bold; line-height: 1; border-radius: 0.35em; text-transform: uppercase; vertical-align: middle; margin-left: 0.5rem\">LAW</span></mark> of <mark class=\"entity\" style=\"background: #ffeb80; padding: 0.45em 0.6em; margin: 0 0.25em; line-height: 1; border-radius: 0.35em; box-decoration-break: clone; -webkit-box-decoration-break: clone\">the Stanley Cup<span style=\"font-size: 0.8em; font-weight: bold; line-height: 1; border-radius: 0.35em; text-transform: uppercase; vertical-align: middle; margin-left: 0.5rem\">EVENT</span></mark> finals outside <mark class=\"entity\" style=\"background: #7aecec; padding: 0.45em 0.6em; margin: 0 0.25em; line-height: 1; border-radius: 0.35em; box-decoration-break: clone; -webkit-box-decoration-break: clone\">Capital One Arena<span style=\"font-size: 0.8em; font-weight: bold; line-height: 1; border-radius: 0.35em; text-transform: uppercase; vertical-align: middle; margin-left: 0.5rem\">ORG</span></mark>. (Ricky <mark class=\"entity\" style=\"background: #7aecec; padding: 0.45em 0.6em; margin: 0 0.25em; line-height: 1; border-radius: 0.35em; box-decoration-break: clone; -webkit-box-decoration-break: clone\">Carioti/The Washington Post) <span style=\"font-size: 0.8em; font-weight: bold; line-height: 1; border-radius: 0.35em; text-transform: uppercase; vertical-align: middle; margin-left: 0.5rem\">ORG</span></mark>Fans gather outside <mark class=\"entity\" style=\"background: #7aecec; padding: 0.45em 0.6em; margin: 0 0.25em; line-height: 1; border-radius: 0.35em; box-decoration-break: clone; -webkit-box-decoration-break: clone\">Capital One Arena<span style=\"font-size: 0.8em; font-weight: bold; line-height: 1; border-radius: 0.35em; text-transform: uppercase; vertical-align: middle; margin-left: 0.5rem\">ORG</span></mark>. (<mark class=\"entity\" style=\"background: #aa9cfc; padding: 0.45em 0.6em; margin: 0 0.25em; line-height: 1; border-radius: 0.35em; box-decoration-break: clone; -webkit-box-decoration-break: clone\">Michael Robinson Chavez<span style=\"font-size: 0.8em; font-weight: bold; line-height: 1; border-radius: 0.35em; text-transform: uppercase; vertical-align: middle; margin-left: 0.5rem\">PERSON</span></mark>/<mark class=\"entity\" style=\"background: #7aecec; padding: 0.45em 0.6em; margin: 0 0.25em; line-height: 1; border-radius: 0.35em; box-decoration-break: clone; -webkit-box-decoration-break: clone\">The Washington Post<span style=\"font-size: 0.8em; font-weight: bold; line-height: 1; border-radius: 0.35em; text-transform: uppercase; vertical-align: middle; margin-left: 0.5rem\">ORG</span></mark>) Fans outside <mark class=\"entity\" style=\"background: #7aecec; padding: 0.45em 0.6em; margin: 0 0.25em; line-height: 1; border-radius: 0.35em; box-decoration-break: clone; -webkit-box-decoration-break: clone\">Capital One Arena<span style=\"font-size: 0.8em; font-weight: bold; line-height: 1; border-radius: 0.35em; text-transform: uppercase; vertical-align: middle; margin-left: 0.5rem\">ORG</span></mark>. (<mark class=\"entity\" style=\"background: #7aecec; padding: 0.45em 0.6em; margin: 0 0.25em; line-height: 1; border-radius: 0.35em; box-decoration-break: clone; -webkit-box-decoration-break: clone\">Photo<span style=\"font-size: 0.8em; font-weight: bold; line-height: 1; border-radius: 0.35em; text-transform: uppercase; vertical-align: middle; margin-left: 0.5rem\">ORG</span></mark> by Ricky <mark class=\"entity\" style=\"background: #7aecec; padding: 0.45em 0.6em; margin: 0 0.25em; line-height: 1; border-radius: 0.35em; box-decoration-break: clone; -webkit-box-decoration-break: clone\">Carioti/The Washington Post<span style=\"font-size: 0.8em; font-weight: bold; line-height: 1; border-radius: 0.35em; text-transform: uppercase; vertical-align: middle; margin-left: 0.5rem\">ORG</span></mark>).  Read more of the <mark class=\"entity\" style=\"background: #7aecec; padding: 0.45em 0.6em; margin: 0 0.25em; line-height: 1; border-radius: 0.35em; box-decoration-break: clone; -webkit-box-decoration-break: clone\">Post<span style=\"font-size: 0.8em; font-weight: bold; line-height: 1; border-radius: 0.35em; text-transform: uppercase; vertical-align: middle; margin-left: 0.5rem\">ORG</span></mark>’s <mark class=\"entity\" style=\"background: #aa9cfc; padding: 0.45em 0.6em; margin: 0 0.25em; line-height: 1; border-radius: 0.35em; box-decoration-break: clone; -webkit-box-decoration-break: clone\">Stanley Cup<span style=\"font-size: 0.8em; font-weight: bold; line-height: 1; border-radius: 0.35em; text-transform: uppercase; vertical-align: middle; margin-left: 0.5rem\">PERSON</span></mark> finals coverage: <mark class=\"entity\" style=\"background: #aa9cfc; padding: 0.45em 0.6em; margin: 0 0.25em; line-height: 1; border-radius: 0.35em; box-decoration-break: clone; -webkit-box-decoration-break: clone\">T.J. Oshie<span style=\"font-size: 0.8em; font-weight: bold; line-height: 1; border-radius: 0.35em; text-transform: uppercase; vertical-align: middle; margin-left: 0.5rem\">PERSON</span></mark> held back tears as he shared <mark class=\"entity\" style=\"background: #f0d0ff; padding: 0.45em 0.6em; margin: 0 0.25em; line-height: 1; border-radius: 0.35em; box-decoration-break: clone; -webkit-box-decoration-break: clone\">the Stanley Cup<span style=\"font-size: 0.8em; font-weight: bold; line-height: 1; border-radius: 0.35em; text-transform: uppercase; vertical-align: middle; margin-left: 0.5rem\">WORK_OF_ART</span></mark> with his dad For Capitals and their fans, tears of joy replace years of frustration Capitals win <mark class=\"entity\" style=\"background: #aa9cfc; padding: 0.45em 0.6em; margin: 0 0.25em; line-height: 1; border-radius: 0.35em; box-decoration-break: clone; -webkit-box-decoration-break: clone\">Stanley Cup<span style=\"font-size: 0.8em; font-weight: bold; line-height: 1; border-radius: 0.35em; text-transform: uppercase; vertical-align: middle; margin-left: 0.5rem\">PERSON</span></mark>, <mark class=\"entity\" style=\"background: #feca74; padding: 0.45em 0.6em; margin: 0 0.25em; line-height: 1; border-radius: 0.35em; box-decoration-break: clone; -webkit-box-decoration-break: clone\">Washington<span style=\"font-size: 0.8em; font-weight: bold; line-height: 1; border-radius: 0.35em; text-transform: uppercase; vertical-align: middle; margin-left: 0.5rem\">GPE</span></mark>’s <mark class=\"entity\" style=\"background: #e4e7d2; padding: 0.45em 0.6em; margin: 0 0.25em; line-height: 1; border-radius: 0.35em; box-decoration-break: clone; -webkit-box-decoration-break: clone\">first<span style=\"font-size: 0.8em; font-weight: bold; line-height: 1; border-radius: 0.35em; text-transform: uppercase; vertical-align: middle; margin-left: 0.5rem\">ORDINAL</span></mark> major sports championship since <mark class=\"entity\" style=\"background: #bfe1d9; padding: 0.45em 0.6em; margin: 0 0.25em; line-height: 1; border-radius: 0.35em; box-decoration-break: clone; -webkit-box-decoration-break: clone\">1992<span style=\"font-size: 0.8em; font-weight: bold; line-height: 1; border-radius: 0.35em; text-transform: uppercase; vertical-align: middle; margin-left: 0.5rem\">DATE</span></mark> <mark class=\"entity\" style=\"background: #aa9cfc; padding: 0.45em 0.6em; margin: 0 0.25em; line-height: 1; border-radius: 0.35em; box-decoration-break: clone; -webkit-box-decoration-break: clone\">Alex Ovechkin<span style=\"font-size: 0.8em; font-weight: bold; line-height: 1; border-radius: 0.35em; text-transform: uppercase; vertical-align: middle; margin-left: 0.5rem\">PERSON</span></mark> wins <mark class=\"entity\" style=\"background: #aa9cfc; padding: 0.45em 0.6em; margin: 0 0.25em; line-height: 1; border-radius: 0.35em; box-decoration-break: clone; -webkit-box-decoration-break: clone\">the Stanley Cup — and<span style=\"font-size: 0.8em; font-weight: bold; line-height: 1; border-radius: 0.35em; text-transform: uppercase; vertical-align: middle; margin-left: 0.5rem\">PERSON</span></mark> secures his legacy The <mark class=\"entity\" style=\"background: #ff8197; padding: 0.45em 0.6em; margin: 0 0.25em; line-height: 1; border-radius: 0.35em; box-decoration-break: clone; -webkit-box-decoration-break: clone\">Capitals’<span style=\"font-size: 0.8em; font-weight: bold; line-height: 1; border-radius: 0.35em; text-transform: uppercase; vertical-align: middle; margin-left: 0.5rem\">LAW</span></mark> supporting cast was again center stage in <mark class=\"entity\" style=\"background: #aa9cfc; padding: 0.45em 0.6em; margin: 0 0.25em; line-height: 1; border-radius: 0.35em; box-decoration-break: clone; -webkit-box-decoration-break: clone\">Stanley Cup<span style=\"font-size: 0.8em; font-weight: bold; line-height: 1; border-radius: 0.35em; text-transform: uppercase; vertical-align: middle; margin-left: 0.5rem\">PERSON</span></mark> clincher <mark class=\"entity\" style=\"background: #aa9cfc; padding: 0.45em 0.6em; margin: 0 0.25em; line-height: 1; border-radius: 0.35em; box-decoration-break: clone; -webkit-box-decoration-break: clone\">Vegas Golden<span style=\"font-size: 0.8em; font-weight: bold; line-height: 1; border-radius: 0.35em; text-transform: uppercase; vertical-align: middle; margin-left: 0.5rem\">PERSON</span></mark> Knights may have stumbled in <mark class=\"entity\" style=\"background: #ffeb80; padding: 0.45em 0.6em; margin: 0 0.25em; line-height: 1; border-radius: 0.35em; box-decoration-break: clone; -webkit-box-decoration-break: clone\">Stanley Cup<span style=\"font-size: 0.8em; font-weight: bold; line-height: 1; border-radius: 0.35em; text-transform: uppercase; vertical-align: middle; margin-left: 0.5rem\">EVENT</span></mark> finals, but best is yet to come Capitals, and <mark class=\"entity\" style=\"background: #feca74; padding: 0.45em 0.6em; margin: 0 0.25em; line-height: 1; border-radius: 0.35em; box-decoration-break: clone; -webkit-box-decoration-break: clone\">Washington<span style=\"font-size: 0.8em; font-weight: bold; line-height: 1; border-radius: 0.35em; text-transform: uppercase; vertical-align: middle; margin-left: 0.5rem\">GPE</span></mark>, celebrate a victory <mark class=\"entity\" style=\"background: #bfe1d9; padding: 0.45em 0.6em; margin: 0 0.25em; line-height: 1; border-radius: 0.35em; box-decoration-break: clone; -webkit-box-decoration-break: clone\">decades<span style=\"font-size: 0.8em; font-weight: bold; line-height: 1; border-radius: 0.35em; text-transform: uppercase; vertical-align: middle; margin-left: 0.5rem\">DATE</span></mark> in the making  </div>"
      ],
      "text/plain": [
       "<IPython.core.display.HTML object>"
      ]
     },
     "metadata": {},
     "output_type": "display_data"
    }
   ],
   "source": [
    "# Draw the dependency tree into the notebook \n",
    "displacy.render(doc, style='ent', minify=True, jupyter=True)"
   ]
  },
  {
   "cell_type": "code",
   "execution_count": 29,
   "metadata": {
    "slideshow": {
     "slide_type": "subslide"
    }
   },
   "outputs": [
    {
     "name": "stdout",
     "output_type": "stream",
     "text": [
      "Tag          Text                                        Start    End\n",
      "-----------  ----------------------------------------  -------  -----\n",
      "GPE          Washington                                     10     20\n",
      "TIME         Thursday afternoon and evening                 32     62\n",
      "LAW          Game 5                                        117    123\n",
      "EVENT        the Stanley Cup                               127    142\n",
      "FAC          Capital One Arena                             167    184\n",
      "DATE         between 7th and 9th Streets hours before      357    397\n",
      "ORG          the Washington Capitals                       398    421\n",
      "ORDINAL      first                                         456    461\n",
      "EVENT        Stanley Cup                                   462    473\n",
      "CARDINAL     thousands                                     486    495\n",
      "ORDINAL      first                                         672    677\n",
      "PERSON       Caps                                          696    700\n",
      "WORK_OF_ART  Let’s Go Caps                                 730    743\n",
      "GPE          Washington                                    759    769\n",
      "ORDINAL      second                                        779    785\n",
      "PERSON       Jakub Vrana                                   855    866\n",
      "ORG          CAPS                                          998   1002\n",
      "PERSON                                                    1004   1005\n",
      "GPE          PREGAME                                      1005   1012\n",
      "WORK_OF_ART  WATCH PARTIES Outside                        1017   1038\n"
     ]
    }
   ],
   "source": [
    "table = [[\"Tag\", \"Text\", \"Start\", \"End\"]]\n",
    "for ent in doc.ents[:20]:\n",
    "    table.append([\n",
    "        ent.label_, ent.text, ent.start_char, ent.end_char, \n",
    "    ])\n",
    "print(tabulate(table, tablefmt=\"simple\", headers=\"firstrow\"))"
   ]
  },
  {
   "cell_type": "code",
   "execution_count": 31,
   "metadata": {
    "slideshow": {
     "slide_type": "subslide"
    }
   },
   "outputs": [
    {
     "data": {
      "text/plain": [
       "'Titles of books, songs, etc.'"
      ]
     },
     "execution_count": 31,
     "metadata": {},
     "output_type": "execute_result"
    }
   ],
   "source": [
    "# Use explain to get the text description of a tag\n",
    "spacy.explain(\"WORK_OF_ART\")"
   ]
  },
  {
   "cell_type": "markdown",
   "metadata": {
    "slideshow": {
     "slide_type": "subslide"
    }
   },
   "source": [
    "#### Accessing Entities \n",
    "\n",
    "Using the `doc.ents` property allows you to treat entities as entire tokens. The alternative is the IOB scheme, which allows you to scan between tokens to find NER relationships. \n",
    "\n",
    "- `I – Token is inside an entity.`\n",
    "- `O – Token is outside an entity.`\n",
    "- `B – Token is the beginning of an entity.`"
   ]
  },
  {
   "cell_type": "code",
   "execution_count": 40,
   "metadata": {
    "slideshow": {
     "slide_type": "subslide"
    }
   },
   "outputs": [
    {
     "name": "stdout",
     "output_type": "stream",
     "text": [
      "Tag     Text        IOB\n",
      "------  ----------  -----\n",
      "PERSON  The         B\n",
      "PERSON  Jefferson   I\n",
      "PERSON  Memorial    I\n",
      "        is          O\n",
      "        located     O\n",
      "        in          O\n",
      "GPE     Washington  B\n",
      "        ,           O\n",
      "GPE     D.C.        B\n"
     ]
    }
   ],
   "source": [
    "table = [[\"Tag\", \"Text\", \"IOB\", \"End\"]]\n",
    "for token in EN(\"The Jefferson Memorial is located in Washington, D.C.\"):\n",
    "    table.append([\n",
    "        token.ent_type_, token.text, token.ent_iob_\n",
    "    ])\n",
    "print(tabulate(table, tablefmt=\"simple\", headers=\"firstrow\"))"
   ]
  },
  {
   "cell_type": "markdown",
   "metadata": {
    "slideshow": {
     "slide_type": "slide"
    }
   },
   "source": [
    "### Training NER Models \n",
    "\n",
    "With a little effort, training a model to your specific NER use-case can have a large impact on the performance of your models and analytics. Although we won't go deep into the details in this session, it is worth considering conducting annotation activities at the start of projects so that improvements can be made toward the end of projects."
   ]
  },
  {
   "cell_type": "code",
   "execution_count": 42,
   "metadata": {
    "slideshow": {
     "slide_type": "subslide"
    }
   },
   "outputs": [
    {
     "data": {
      "text/html": [
       "<div class=\"entities\" style=\"line-height: 2.5\">The Good Ship Samantha sailed down <mark class=\"entity\" style=\"background: #ff9561; padding: 0.45em 0.6em; margin: 0 0.25em; line-height: 1; border-radius: 0.35em; box-decoration-break: clone; -webkit-box-decoration-break: clone\">the River Nile<span style=\"font-size: 0.8em; font-weight: bold; line-height: 1; border-radius: 0.35em; text-transform: uppercase; vertical-align: middle; margin-left: 0.5rem\">LOC</span></mark></div>"
      ],
      "text/plain": [
       "<IPython.core.display.HTML object>"
      ]
     },
     "metadata": {},
     "output_type": "display_data"
    }
   ],
   "source": [
    "# spaCy doesn't recognize the name of the ship. \n",
    "phrase = EN(\"The Good Ship Samantha sailed down the River Nile\")\n",
    "displacy.render(phrase, style='ent', minify=True, jupyter=True)"
   ]
  },
  {
   "cell_type": "code",
   "execution_count": 46,
   "metadata": {
    "slideshow": {
     "slide_type": "subslide"
    }
   },
   "outputs": [
    {
     "data": {
      "text/html": [
       "<div class=\"entities\" style=\"line-height: 2.5\"><mark class=\"entity\" style=\"background: #7aecec; padding: 0.45em 0.6em; margin: 0 0.25em; line-height: 1; border-radius: 0.35em; box-decoration-break: clone; -webkit-box-decoration-break: clone\">The Good Ship Samantha<span style=\"font-size: 0.8em; font-weight: bold; line-height: 1; border-radius: 0.35em; text-transform: uppercase; vertical-align: middle; margin-left: 0.5rem\">ORG</span></mark> sailed down <mark class=\"entity\" style=\"background: #ff9561; padding: 0.45em 0.6em; margin: 0 0.25em; line-height: 1; border-radius: 0.35em; box-decoration-break: clone; -webkit-box-decoration-break: clone\">the River Nile<span style=\"font-size: 0.8em; font-weight: bold; line-height: 1; border-radius: 0.35em; text-transform: uppercase; vertical-align: middle; margin-left: 0.5rem\">LOC</span></mark></div>"
      ],
      "text/plain": [
       "<IPython.core.display.HTML object>"
      ]
     },
     "metadata": {},
     "output_type": "display_data"
    }
   ],
   "source": [
    "from spacy.tokens import Span\n",
    "\n",
    "ORG = phrase.vocab.strings[\"ORG\"]        # get hash value of entity label\n",
    "ship = Span(phrase, 0, 4, label=ORG)     # create a Span for the new entity\n",
    "phrase.ents = list(phrase.ents) + [ship] # reset the entities on the phrase\n",
    "\n",
    "displacy.render(phrase, style='ent', minify=True, jupyter=True)"
   ]
  },
  {
   "cell_type": "markdown",
   "metadata": {
    "slideshow": {
     "slide_type": "slide"
    }
   },
   "source": [
    "### NLTK NER"
   ]
  },
  {
   "cell_type": "code",
   "execution_count": 59,
   "metadata": {
    "slideshow": {
     "slide_type": "subslide"
    }
   },
   "outputs": [
    {
     "name": "stdout",
     "output_type": "stream",
     "text": [
      "(S\n",
      "  The/DT\n",
      "  (ORGANIZATION Washington/NNP Capitals/NNP)\n",
      "  won/VBD\n",
      "  their/PRP$\n",
      "  first/JJ\n",
      "  Stanley/NNP\n",
      "  Cup/NNP\n",
      "  in/IN\n",
      "  the/DT\n",
      "  (ORGANIZATION Capital/NNP One/NNP Arena/NNP)\n",
      "  ./.)\n"
     ]
    }
   ],
   "source": [
    "from nltk import ne_chunk, word_tokenize, pos_tag\n",
    "\n",
    "def ner(text, binary=False):\n",
    "    text = pos_tag(word_tokenize(text))\n",
    "    return ne_chunk(text, binary=binary)\n",
    "\n",
    "print(ner(\"The Washington Capitals won their first Stanley Cup in the Capital One Arena.\"))"
   ]
  },
  {
   "cell_type": "code",
   "execution_count": 53,
   "metadata": {
    "slideshow": {
     "slide_type": "subslide"
    }
   },
   "outputs": [
    {
     "name": "stdout",
     "output_type": "stream",
     "text": [
      "(S\n",
      "  The/DT\n",
      "  (NE Washington/NNP Capitals/NNP)\n",
      "  won/VBD\n",
      "  their/PRP$\n",
      "  first/JJ\n",
      "  Stanley/NNP\n",
      "  Cup/NNP\n",
      "  in/IN\n",
      "  the/DT\n",
      "  (NE Capital/NNP One/NNP Arena/NNP)\n",
      "  ./.)\n"
     ]
    }
   ],
   "source": [
    "print(ner(\"The Washington Capitals won their first Stanley Cup in the Capital One Arena.\", binary=True))"
   ]
  },
  {
   "cell_type": "code",
   "execution_count": 76,
   "metadata": {
    "slideshow": {
     "slide_type": "subslide"
    }
   },
   "outputs": [
    {
     "name": "stdout",
     "output_type": "stream",
     "text": [
      "('ORGANIZATION', 'Washington Capitals')\n",
      "('ORGANIZATION', 'Capital One Arena')\n"
     ]
    }
   ],
   "source": [
    "from nltk.tree import Tree \n",
    "\n",
    "def entities(text):\n",
    "    for chunk in ner(text):\n",
    "        if isinstance(chunk, Tree):\n",
    "            label = chunk.label() \n",
    "            text = \" \".join([token[0] for token in chunk.leaves()])\n",
    "            yield label, text\n",
    "\n",
    "            \n",
    "chunks = entities(\"The Washington Capitals won their first Stanley Cup in the Capital One Arena.\")\n",
    "for chunk in chunks:\n",
    "    print(chunk)"
   ]
  },
  {
   "cell_type": "markdown",
   "metadata": {
    "slideshow": {
     "slide_type": "slide"
    }
   },
   "source": [
    "## Keyphrase Extraction \n",
    "\n",
    "Named entities are important parts of text analytics, but rely on a classification model in order to determine relevance. Often we want to be more general and simply extract the most important phrases in our document. There are two steps to do this:\n",
    "\n",
    "1. Extract candidate phrases \n",
    "2. Score and rank phrases  \n",
    "\n",
    "For an excellent writeup on key phrase extraction, see [Intro to Automatic Keyphrase Extraction by Burton de Wilde](http://bdewilde.github.io/blog/2014/09/23/intro-to-automatic-keyphrase-extraction/)"
   ]
  },
  {
   "cell_type": "markdown",
   "metadata": {
    "slideshow": {
     "slide_type": "slide"
    }
   },
   "source": [
    "### Extract Candidates\n",
    "\n",
    "There are many ways to extract candidates; we could use simple N-grams or simply create a filter of \"good tags\". A deeper candidate search would look at all phrase structures from a parse tree. In this case, we'll take advantage of our parse structure to find _noun phrases_ using a _grammar_ to get chunks from our trees: \n",
    "\n",
    "> `r'KT: {(<JJ>* <NN.*>+ <IN>)? <JJ>* <NN.*>+}'`\n",
    "\n",
    "This grammar defines a new tag, `KT` (key term) that can be composed of adjectives, nouns and prepositional phrases. "
   ]
  },
  {
   "cell_type": "code",
   "execution_count": 114,
   "metadata": {
    "slideshow": {
     "slide_type": "subslide"
    }
   },
   "outputs": [],
   "source": [
    "import nltk \n",
    "import itertools\n",
    "\n",
    "GRAMMAR = r'KT: {(<JJ>* <NN.*>+ <IN>)? <JJ>* <NN.*>+}'\n",
    "\n",
    "def candidates(sents, grammar=GRAMMAR, fileids=None):\n",
    "    # Create our parser \n",
    "    chunker = nltk.chunk.regexp.RegexpParser(grammar)\n",
    "\n",
    "    # Parse our tagged sentences and transform them into trees\n",
    "    chunks  = list(itertools.chain.from_iterable(\n",
    "        nltk.chunk.tree2conlltags(chunker.parse(sent))\n",
    "        for sent in sents if sent\n",
    "    ))\n",
    "    \n",
    "    # Filter other objects from the parse (only get candidates)\n",
    "    def object_filter(group):\n",
    "        word, pos, chunk = group\n",
    "        return chunk != 'O'\n",
    "\n",
    "    # Rejoin candidates as text\n",
    "    return [\n",
    "        \" \".join(word for word, pos, chunk in group).lower()\n",
    "        for key, group in itertools.groupby(chunks, object_filter) if key\n",
    "    ]"
   ]
  },
  {
   "cell_type": "code",
   "execution_count": 115,
   "metadata": {
    "slideshow": {
     "slide_type": "subslide"
    }
   },
   "outputs": [
    {
     "name": "stdout",
     "output_type": "stream",
     "text": [
      "['lonely city', 'heart', 'piercing wisdom', 'loneliness', 'laing', 'everyone', 'feast .” later', 'point', 'own hermetic existence in new york', '“']\n",
      "323576\n"
     ]
    }
   ],
   "source": [
    "from utils.reader import PickledCorpusReader\n",
    "\n",
    "corpus = PickledCorpusReader(\"data/corpus\")\n",
    "# corpus = PickledCorpusReader(\"data/corpus/sample\")\n",
    "\n",
    "phrases = candidates(corpus.sents())\n",
    "print(phrases[:10])\n",
    "print(len(phrases))"
   ]
  },
  {
   "cell_type": "markdown",
   "metadata": {
    "slideshow": {
     "slide_type": "slide"
    }
   },
   "source": [
    "### Scoring Key Phrases \n",
    "\n",
    "As there are many methods for extracting phrases, there are a number of ways to rank and score them:\n",
    "\n",
    "- Frequency Statistics \n",
    "- TF-IDF, BM25 \n",
    "- Graph Ranking - PageRank, Betweenness \n",
    "- TextRank/DivRank \n",
    "- Classification - KEA \n",
    "\n",
    "For simplicity we'll rank using [TF-IDF](https://en.wikipedia.org/wiki/Tf%E2%80%93idf), which uses the relative frequency of the term to the document compared to the rest of the corpus to score the phrse."
   ]
  },
  {
   "cell_type": "code",
   "execution_count": null,
   "metadata": {
    "slideshow": {
     "slide_type": "subslide"
    }
   },
   "outputs": [],
   "source": [
    "import heapq \n",
    "import gensim \n",
    "from operator import itemgetter \n",
    "\n",
    "\n",
    "def rank_key_phrases(texts, N=20):\n",
    "    id2word = gensim.corpora.Dictionary(texts)\n",
    "    corpus = [id2word.doc2bow(text) for text in texts]\n",
    "    tfidf = gensim.models.TfidfModel(corpus)\n",
    "    scored = tfidf[corpus]\n",
    "    \n",
    "    scores = [(term, score) for doc in scored for term, score in doc]\n",
    "    table = [[\"Term\", \"Score\"]]\n",
    "    \n",
    "    for wid, score in heapq.nlargest(N, scores, key=itemgetter(1)):\n",
    "            table.append((id2word[wid], score))\n",
    "    \n",
    "    print(tabulate(table, tablefmt=\"simple\", headers=\"firstrow\"))"
   ]
  },
  {
   "cell_type": "code",
   "execution_count": null,
   "metadata": {
    "slideshow": {
     "slide_type": "subslide"
    }
   },
   "outputs": [],
   "source": [
    "phrases = [\n",
    "    candidates(corpus.sents(fileids=fileid))\n",
    "    for fileid in corpus.fileids()\n",
    "]\n",
    "\n",
    "rank_key_phrases(phrases)"
   ]
  },
  {
   "cell_type": "markdown",
   "metadata": {
    "slideshow": {
     "slide_type": "slide"
    }
   },
   "source": [
    "## Summarization \n",
    "\n",
    "We can use key phrases to summarize text by ranking sentences by their key phrases and printing only those sentences as the summary. \n",
    "\n",
    "For this method, we'll use the slighly more advanced TextRank algorithm, available in Gensim."
   ]
  },
  {
   "cell_type": "code",
   "execution_count": 132,
   "metadata": {
    "slideshow": {
     "slide_type": "subslide"
    }
   },
   "outputs": [
    {
     "name": "stdout",
     "output_type": "stream",
     "text": [
      "fans\n",
      "fan\n",
      "said\n",
      "capital\n",
      "capitals\n",
      "arena\n",
      "win\n",
      "winning\n",
      "wins\n",
      "street\n",
      "washington turned red\n",
      "lines outside\n",
      "sports\n",
      "cup\n",
      "like\n",
      "stood\n",
      "caps broadcasters\n",
      "different\n",
      "streets hours\n",
      "johnson\n",
      "years\n",
      "year\n",
      "game\n",
      "watch\n",
      "watching\n",
      "inside\n",
      "party\n",
      "parties\n",
      "finals\n",
      "final\n",
      "finally\n",
      "celebrations\n",
      "celebrities\n",
      "celebration\n",
      "celebrate\n",
      "hour\n",
      "post\n",
      "championship\n",
      "high police\n",
      "national\n",
      "nationals\n",
      "stopped\n",
      "stop\n",
      "moments\n",
      "moment\n",
      "lined\n",
      "fast\n",
      "beers\n",
      "beer\n",
      "bowl\n",
      "bowls\n",
      "pregame\n",
      "clothes\n",
      "county\n",
      "loose\n",
      "travis\n",
      "possible\n",
      "centers\n",
      "center\n",
      "flip\n",
      "ovechkin\n",
      "bars\n",
      "bar\n",
      "screens\n",
      "screening\n",
      "crowds\n",
      "crowd\n",
      "super\n",
      "wearing\n",
      "chuck\n",
      "lynx\n",
      "wmata buses\n",
      "spring native\n",
      "period\n",
      "long\n",
      "wes\n",
      "area\n",
      "house\n",
      "operating movie\n",
      "address\n",
      "hockey\n",
      "vrana\n",
      "broadcast\n",
      "supporting\n",
      "airport\n",
      "food\n"
     ]
    }
   ],
   "source": [
    "from gensim.summarization import keywords\n",
    "\n",
    "print(keywords(doc.text))"
   ]
  },
  {
   "cell_type": "code",
   "execution_count": 123,
   "metadata": {
    "slideshow": {
     "slide_type": "subslide"
    }
   },
   "outputs": [
    {
     "name": "stdout",
     "output_type": "stream",
     "text": [
      "Downtown Washington turned red Thursday afternoon and evening, as fans turned out in unprecedented numbers to watch Game 5 of the Stanley Cup finals.\n",
      "The area around Capital One Arena was packed for blocks in every direction; fans queued up in massive lines outside bars, restaurants, sandwich shops and liquor stores.\n",
      "They filled the G Street watch party between 7th and 9th Streets hours before the Washington Capitals began their quest to clinch their first Stanley Cup. Meanwhile, thousands poured into a different watch party inside the arena.\n",
      "Inside the arena, fans roared during every pregame clip of the Capitals, roared during every near miss, roared during the first intermission when Caps broadcasters led a round of “Let’s Go Caps!” chants.\n",
      "VIDEO CELEBRATIONS | CELEBRITIES AND FORMER CAPS | PREGAME AND WATCH PARTIES Outside, the fans weren’t just 20-somethings shotgunning beers.\n",
      "As the final horn sounded, giving the Capitals a 4-3 victory over the Golden Knights and their first Stanley Cup championship, fans watching the game inside Capital One Arena stormed the court that hours earlier had hosted a WNBA game between the Washington Mystics and Minnesota Lynx.\n",
      "Fans erupted in joy after watching the Capitals win their very first Stanley Cup outside the Capital One Arena.\n",
      "(Michael Robinson Chavez/The Washington Post)  [Capitals win first Stanley Cup championship] Dwain Watts, 34, was at the National Portrait Gallery steps not long after midnight, holding up a copy of The Washington Post’s street edition.\n",
      "He was just a kid the last time the Caps went to the finals, and said this felt like redemption.\n",
      "He held a sign that read, “One More Win.” “I don’t know how to describe it,” he said when asked what a Caps win would mean.\n",
      "“Literally, like six months ago, I had a dream about us making the Cup. It’s just been a long time since D.C.’s had a championship.” That was part of it; none of Washington’s major pro sports teams had won a title since the Redskins’ Super Bowl triumph in 1992.\n",
      "And so fans poured into the city: at National Harbor and the Bullpen outside Nationals Park, at the Wharf and the U.S. Navy Memorial, at town centers in Fairfax County and Montgomery County, and inside every bar and restaurant within blocks of the arena.\n",
      "“Even though I’m not a big sports fan and I don’t know much about hockey, it just felt like if you’re from the D.C. area, this was the thing you couldn’t miss,” she said.\n",
      "“We just had a feeling about this time that we’d close it out.” “The demons are gone.” Travis Tuthill, a 20-year-old Caps fan from New Jersey, stood outside Capital One Arena at around midnight, holding a sign that said, “Worth the Wait.” “What happened last year, against the Penguins, I swear, I thought, I genuinely thought, I would never, ever see this happen in my life,” he said.\n",
      "To look up there and be able to see Ovechkin lift that trophy, that makes me emotional.” Don’t go to the airport, fans From Metropolitan Washington Airport Authority: “The Caps are Stanley Cup Champions!\n",
      "CELEBRATIONS Celebrities and former Caps tweet congrats and celebrations PREGAME    (Matt McClain/The Washington Post)     Capitals fans prepare to watch Game 5 of the Stanley Cup finals outside Capital One Arena.\n",
      "(Ricky Carioti/The Washington Post)     Fans gather outside Capital One Arena.\n",
      "(Michael Robinson Chavez/The Washington Post)     Fans outside Capital One Arena.\n"
     ]
    }
   ],
   "source": [
    "from gensim.summarization import summarize\n",
    "\n",
    "# NOTE: the doc is still a spaCy doc, we use the text attribute to get the raw data. \n",
    "summary = EN(summarize(doc.text))\n",
    "print(summary)"
   ]
  },
  {
   "cell_type": "code",
   "execution_count": 124,
   "metadata": {
    "slideshow": {
     "slide_type": "subslide"
    }
   },
   "outputs": [
    {
     "name": "stdout",
     "output_type": "stream",
     "text": [
      "Original length: 2134\n",
      "Summary length: 713\n"
     ]
    }
   ],
   "source": [
    "print(\"Original length: {}\".format(len(doc)))\n",
    "print(\"Summary length: {}\".format(len(summary)))"
   ]
  },
  {
   "cell_type": "code",
   "execution_count": 128,
   "metadata": {
    "slideshow": {
     "slide_type": "subslide"
    }
   },
   "outputs": [
    {
     "name": "stdout",
     "output_type": "stream",
     "text": [
      "Downtown Washington turned red Thursday afternoon and evening, as fans turned out in unprecedented numbers to watch Game 5 of the Stanley Cup finals.\n",
      "As the final horn sounded, giving the Capitals a 4-3 victory over the Golden Knights and their first Stanley Cup championship, fans watching the game inside Capital One Arena stormed the court that hours earlier had hosted a WNBA game between the Washington Mystics and Minnesota Lynx.\n",
      "Fans erupted in joy after watching the Capitals win their very first Stanley Cup outside the Capital One Arena.\n",
      "(Michael Robinson Chavez/The Washington Post)  [Capitals win first Stanley Cup championship] Dwain Watts, 34, was at the National Portrait Gallery steps not long after midnight, holding up a copy of The Washington Post’s street edition.\n",
      "“Even though I’m not a big sports fan and I don’t know much about hockey, it just felt like if you’re from the D.C. area, this was the thing you couldn’t miss,” she said.\n",
      "“We just had a feeling about this time that we’d close it out.” “The demons are gone.” Travis Tuthill, a 20-year-old Caps fan from New Jersey, stood outside Capital One Arena at around midnight, holding a sign that said, “Worth the Wait.” “What happened last year, against the Penguins, I swear, I thought, I genuinely thought, I would never, ever see this happen in my life,” he said.\n",
      "CELEBRATIONS Celebrities and former Caps tweet congrats and celebrations PREGAME    (Matt McClain/The Washington Post)     Capitals fans prepare to watch Game 5 of the Stanley Cup finals outside Capital One Arena.\n",
      "(Ricky Carioti/The Washington Post)     Fans gather outside Capital One Arena.\n",
      "(Michael Robinson Chavez/The Washington Post)     Fans outside Capital One Arena.\n"
     ]
    }
   ],
   "source": [
    "# Summary length by percent\n",
    "print(summarize(doc.text, ratio=0.1))"
   ]
  },
  {
   "cell_type": "code",
   "execution_count": 129,
   "metadata": {
    "slideshow": {
     "slide_type": "subslide"
    }
   },
   "outputs": [
    {
     "name": "stdout",
     "output_type": "stream",
     "text": [
      "As the final horn sounded, giving the Capitals a 4-3 victory over the Golden Knights and their first Stanley Cup championship, fans watching the game inside Capital One Arena stormed the court that hours earlier had hosted a WNBA game between the Washington Mystics and Minnesota Lynx.\n"
     ]
    }
   ],
   "source": [
    "# Summary length by word count\n",
    "print(summarize(doc.text, word_count=50))"
   ]
  },
  {
   "cell_type": "markdown",
   "metadata": {
    "slideshow": {
     "slide_type": "slide"
    }
   },
   "source": [
    "## Graph Analysis \n",
    "\n",
    "By modeling our data as entities and relationships, we can create graphs that allow us to more effectively reason about complex data and to make computations that would otherwise be impossible. \n",
    "\n",
    "Graph analytics is one of the first mechanisms of deep text analytics, particularly after information extraction reveals entities and their relationships. "
   ]
  },
  {
   "cell_type": "markdown",
   "metadata": {
    "slideshow": {
     "slide_type": "subslide"
    }
   },
   "source": [
    "![Key Phrase Graph](figures/s2_keyphrase_rank_graph.png)\n",
    "\n",
    "Key phrases associated with an article, sized by how many other documents contain the phrase."
   ]
  },
  {
   "cell_type": "markdown",
   "metadata": {
    "slideshow": {
     "slide_type": "subslide"
    }
   },
   "source": [
    "![Email Graph](figures/s2_email_graph.png)\n",
    "\n",
    "Email graph showing connections between emails and the clusters that form from frequent email groupings."
   ]
  },
  {
   "cell_type": "markdown",
   "metadata": {
    "slideshow": {
     "slide_type": "slide"
    }
   },
   "source": [
    "### Graph Extraction \n",
    "\n",
    "We'll explore a simple graph to start out with - our entities will be the named entities extracted by the default spaCy NER, and their relationships will be simply if they're in the same document together. "
   ]
  },
  {
   "cell_type": "code",
   "execution_count": 174,
   "metadata": {
    "slideshow": {
     "slide_type": "subslide"
    }
   },
   "outputs": [
    {
     "data": {
      "text/plain": [
       "[BERLIN,\n",
       " AP,\n",
       " Germany,\n",
       " Tuesday,\n",
       " second,\n",
       " first,\n",
       " 60 years,\n",
       " German,\n",
       " 16,\n",
       " the end of 2013,\n",
       " the National Democratic Party,\n",
       " NPD,\n",
       " 2003,\n",
       " Karlsruhe,\n",
       " Federal Constitutional Court]"
      ]
     },
     "execution_count": 174,
     "metadata": {},
     "output_type": "execute_result"
    }
   ],
   "source": [
    "def extract_entities(corpus, categories=None):\n",
    "    for fileid in corpus.fileids(categories=categories):\n",
    "        doc = EN(next(corpus.raw_data(fileid)))\n",
    "        yield [\n",
    "            ent for ent in doc.ents if ent.text.strip()\n",
    "        ]\n",
    "\n",
    "        \n",
    "docs = extract_entities(corpus, \"news\")\n",
    "next(docs)[:15]"
   ]
  },
  {
   "cell_type": "code",
   "execution_count": 186,
   "metadata": {
    "slideshow": {
     "slide_type": "subslide"
    }
   },
   "outputs": [
    {
     "name": "stdout",
     "output_type": "stream",
     "text": [
      "Name: \n",
      "Type: Graph\n",
      "Number of nodes: 22276\n",
      "Number of edges: 1381091\n",
      "Average degree: 123.9981\n"
     ]
    }
   ],
   "source": [
    "import networkx as nx \n",
    "\n",
    "def extract_graph(corpus, categories=None):\n",
    "    G = nx.Graph() \n",
    "    \n",
    "    for doc in extract_entities(corpus, \"news\"):\n",
    "        for ent in doc:\n",
    "            \n",
    "            # Create the vertex in the graph \n",
    "            G.add_node(ent.lower_, text=ent.text, tag=ent.label_)\n",
    "            \n",
    "            # Create the edge to all other entities in the doc \n",
    "            for coent in doc:\n",
    "                if ent == coent:\n",
    "                    continue \n",
    "                G.add_edge(ent.lower_, coent.lower_) \n",
    "    \n",
    "    return G \n",
    "\n",
    "\n",
    "# Warning: this may take a while! \n",
    "G = extract_graph(corpus, categories=\"news\")\n",
    "print(nx.info(G))"
   ]
  },
  {
   "cell_type": "code",
   "execution_count": 188,
   "metadata": {
    "slideshow": {
     "slide_type": "subslide"
    }
   },
   "outputs": [],
   "source": [
    "import os \n",
    "\n",
    "GRAPH_DATA = os.path.join(\"data\", \"ner_news_graph.graphml\")\n",
    "\n",
    "# Save graph to disk \n",
    "nx.write_graphml(G, GRAPH_DATA)\n",
    "\n",
    "# Load graph from disk \n",
    "G = nx.read_graphml(GRAPH_DATA)"
   ]
  },
  {
   "cell_type": "markdown",
   "metadata": {
    "slideshow": {
     "slide_type": "slide"
    }
   },
   "source": [
    "### Centrality \n",
    "\n",
    "Centrality measures answer the question: \"What are the most important entities in our graph?\" "
   ]
  },
  {
   "cell_type": "code",
   "execution_count": 194,
   "metadata": {
    "slideshow": {
     "slide_type": "subslide"
    }
   },
   "outputs": [],
   "source": [
    "def rank_entities(G, centrality, N=20):\n",
    "    scores = centrality(G) \n",
    "    table = [[\"Term\", \"Score\"]]\n",
    "    \n",
    "    for row in heapq.nlargest(N, scores.items(), key=itemgetter(1)):\n",
    "            table.append(row)\n",
    "    \n",
    "    print(tabulate(table, tablefmt=\"simple\", headers=\"firstrow\"))"
   ]
  },
  {
   "cell_type": "markdown",
   "metadata": {
    "slideshow": {
     "slide_type": "slide"
    }
   },
   "source": [
    "#### Degree Centrality \n",
    "\n",
    "Ranks nodes by how many other nodes they are connected to. \n",
    "\n",
    "A measure of popularity, determines nodes that can quickly spread information to a localized area."
   ]
  },
  {
   "cell_type": "code",
   "execution_count": 195,
   "metadata": {
    "slideshow": {
     "slide_type": "subslide"
    }
   },
   "outputs": [
    {
     "name": "stdout",
     "output_type": "stream",
     "text": [
      "Term           Score\n",
      "----------  --------\n",
      "one         0.636768\n",
      "first       0.619169\n",
      "two         0.568305\n",
      "three       0.397845\n",
      "1           0.297059\n",
      "000         0.282469\n",
      "today       0.274388\n",
      "four        0.27358\n",
      "second      0.269764\n",
      "2           0.250685\n",
      "2014        0.248575\n",
      "american    0.229315\n",
      "friday      0.225589\n",
      "u .         0.224602\n",
      "last year   0.223659\n",
      "tuesday     0.219798\n",
      "five        0.213872\n",
      "washington  0.208664\n",
      "new york    0.204579\n",
      "thursday    0.201706\n"
     ]
    }
   ],
   "source": [
    "rank_entities(G, nx.degree_centrality)"
   ]
  },
  {
   "cell_type": "markdown",
   "metadata": {
    "slideshow": {
     "slide_type": "slide"
    }
   },
   "source": [
    "#### Closeness Centrality \n",
    "\n",
    "Ranks nodes by how close they are to all other nodes in the graph.\n",
    "\n",
    "A measure of reach; how fast information will spread to all other nodes from a single node."
   ]
  },
  {
   "cell_type": "code",
   "execution_count": null,
   "metadata": {
    "slideshow": {
     "slide_type": "subslide"
    }
   },
   "outputs": [],
   "source": [
    "rank_entities(G, nx.closeness_centrality)"
   ]
  },
  {
   "cell_type": "markdown",
   "metadata": {
    "slideshow": {
     "slide_type": "slide"
    }
   },
   "source": [
    "#### Betweenness Centrality \n",
    "\n",
    "Ranks nodes by how many shortest paths between all other nodes they are a part of. \n",
    "\n",
    "Shows which nodes are likely pathways of information and can be used to determine how a graph will break apart of nodes are removed."
   ]
  },
  {
   "cell_type": "code",
   "execution_count": null,
   "metadata": {
    "slideshow": {
     "slide_type": "subslide"
    }
   },
   "outputs": [],
   "source": [
    "rank_entities(G, nx.betweenness_centrality)"
   ]
  },
  {
   "cell_type": "markdown",
   "metadata": {
    "slideshow": {
     "slide_type": "slide"
    }
   },
   "source": [
    "#### Eigenvector Centrality \n",
    "\n",
    "Ranks nodes by the closeness of the node's neighbors (very similar to PageRank). \n",
    "\n",
    "A measure of related influence, who is closest to the most important people in the Graph? Kind of like “power behind the scenes” or influence beyond popularity.   "
   ]
  },
  {
   "cell_type": "code",
   "execution_count": null,
   "metadata": {
    "slideshow": {
     "slide_type": "subslide"
    }
   },
   "outputs": [],
   "source": [
    "rank_entities(G, nx.eigenvector_centrality)"
   ]
  }
 ],
 "metadata": {
  "celltoolbar": "Slideshow",
  "kernelspec": {
   "display_name": "Python 3",
   "language": "python",
   "name": "python3"
  },
  "language_info": {
   "codemirror_mode": {
    "name": "ipython",
    "version": 3
   },
   "file_extension": ".py",
   "mimetype": "text/x-python",
   "name": "python",
   "nbconvert_exporter": "python",
   "pygments_lexer": "ipython3",
   "version": "3.6.2"
  }
 },
 "nbformat": 4,
 "nbformat_minor": 2
}
